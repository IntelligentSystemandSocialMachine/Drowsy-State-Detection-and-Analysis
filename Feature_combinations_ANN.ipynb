{
 "cells": [
  {
   "cell_type": "markdown",
   "metadata": {
    "deletable": true,
    "editable": true
   },
   "source": [
    "### Scores for ANN classifier"
   ]
  },
  {
   "cell_type": "code",
   "execution_count": 1,
   "metadata": {
    "collapsed": true,
    "deletable": true,
    "editable": true
   },
   "outputs": [],
   "source": [
    "import pandas as pd \n",
    "import numpy as np \n",
    "import os \n",
    "from random import randint\n",
    "from sklearn import metrics\n",
    "from sklearn import tree\n",
    "from sklearn.metrics import accuracy_score#import accuracy_score\n",
    "from sklearn.preprocessing import MinMaxScaler\n",
    "from sklearn.feature_selection import SelectFromModel\n",
    "from sklearn.model_selection import train_test_split\n",
    "from sklearn.metrics import classification_report\n",
    "from sklearn.metrics import confusion_matrix\n",
    "\n",
    "df=pd.read_csv('fordTrain.csv')\n",
    "df1=pd.read_csv('fordTest.csv')\n",
    "\n",
    "df=df.drop(['TrialID','ObsNum','P8','V7','V9'],axis=1) \n",
    "df1=df1.drop(['TrialID','ObsNum','P8','V7','V9'],axis=1)\n",
    "\n",
    "Y_train=df['IsAlert']\n",
    "X_train=df.drop(['IsAlert'],axis=1)\n",
    "\n",
    "Y_test=df1['IsAlert']\n",
    "X_test=df1.drop(['IsAlert'],axis=1)\n",
    "#data=df.as_matrix()\n",
    "def specandsens(a):\n",
    "    spec=a[1][1]/(a[1][1]+a[1][0])\n",
    "    sens=a[0][0]/(a[0][0]+a[0][1])\n",
    "    return spec,sens"
   ]
  },
  {
   "cell_type": "code",
   "execution_count": 2,
   "metadata": {
    "collapsed": false,
    "deletable": true,
    "editable": true
   },
   "outputs": [],
   "source": [
    "F1_train=X_train.ix[:,0:7].copy()"
   ]
  },
  {
   "cell_type": "code",
   "execution_count": 3,
   "metadata": {
    "collapsed": true,
    "deletable": true,
    "editable": true
   },
   "outputs": [],
   "source": [
    "F2_train=X_train.ix[:,7:18].copy()"
   ]
  },
  {
   "cell_type": "code",
   "execution_count": 4,
   "metadata": {
    "collapsed": true,
    "deletable": true,
    "editable": true
   },
   "outputs": [],
   "source": [
    "F3_train=X_train.ix[:,18:].copy()"
   ]
  },
  {
   "cell_type": "code",
   "execution_count": 5,
   "metadata": {
    "collapsed": true,
    "deletable": true,
    "editable": true
   },
   "outputs": [],
   "source": [
    "F1_test=X_test.ix[:,0:7].copy()\n",
    "F2_test=X_test.ix[:,7:18].copy()\n",
    "F3_test=X_test.ix[:,18:].copy()"
   ]
  },
  {
   "cell_type": "code",
   "execution_count": 6,
   "metadata": {
    "collapsed": true,
    "deletable": true,
    "editable": true
   },
   "outputs": [],
   "source": [
    "F12_train=pd.concat([F1_train,F2_train],axis=1)\n",
    "F23_train=pd.concat([F2_train,F3_train],axis=1)\n",
    "F13_train=pd.concat([F1_train,F3_train],axis=1)\n",
    "F12_test=pd.concat([F1_test,F2_test],axis=1)\n",
    "F23_test=pd.concat([F2_test,F3_test],axis=1)\n",
    "F13_test=pd.concat([F1_test,F3_test],axis=1)"
   ]
  },
  {
   "cell_type": "code",
   "execution_count": 7,
   "metadata": {
    "collapsed": true,
    "deletable": true,
    "editable": true
   },
   "outputs": [],
   "source": [
    "F123_train=pd.concat([F1_train,F2_train,F3_train],axis=1)\n",
    "F123_test=pd.concat([F1_test,F2_test,F3_test],axis=1)"
   ]
  },
  {
   "cell_type": "code",
   "execution_count": 8,
   "metadata": {
    "collapsed": false,
    "deletable": true,
    "editable": true
   },
   "outputs": [],
   "source": [
    "from sklearn.metrics import accuracy_score\n",
    "from sklearn.metrics import recall_score\n",
    "from sklearn.metrics import precision_score\n",
    "from sklearn.metrics import confusion_matrix\n",
    "from sklearn.neural_network import MLPClassifier\n",
    "model = MLPClassifier(solver='lbfgs')"
   ]
  },
  {
   "cell_type": "code",
   "execution_count": 9,
   "metadata": {
    "collapsed": false,
    "deletable": true,
    "editable": true
   },
   "outputs": [
    {
     "name": "stdout",
     "output_type": "stream",
     "text": [
      "train accuracy for F1 =>  0.587957883868\n",
      "test accuracy for F1 =>  0.711213174446\n",
      "0.928810241295 0.0498094537675\n",
      "0.425484184004\n"
     ]
    }
   ],
   "source": [
    "model.fit(F1_train,Y_train)\n",
    "print(\"train accuracy for F1 => \",accuracy_score(model.predict(F1_train),Y_train))\n",
    "print(\"test accuracy for F1 => \",accuracy_score(model.predict(F1_test),Y_test))\n",
    "confmatrix=confusion_matrix(Y_test, model.predict(F1_test))\n",
    "spec,sens=specandsens(confmatrix)\n",
    "print(spec,sens)# specificity and sensitivity\n",
    "Y_pred_prob=model.predict_proba(F1_test)[:,1]\n",
    "from sklearn.metrics import roc_auc_score\n",
    "print(roc_auc_score(Y_test,Y_pred_prob))"
   ]
  },
  {
   "cell_type": "code",
   "execution_count": 10,
   "metadata": {
    "collapsed": false,
    "deletable": true,
    "editable": true
   },
   "outputs": [
    {
     "name": "stdout",
     "output_type": "stream",
     "text": [
      "train accuracy for F2 =>  0.714741473601\n",
      "test accuracy for F2 =>  0.722045680238\n",
      "0.809911356488 0.454970916628\n",
      "0.687229265816\n"
     ]
    }
   ],
   "source": [
    "model.fit(F2_train,Y_train)\n",
    "print(\"train accuracy for F2 => \",accuracy_score(model.predict(F2_train),Y_train))\n",
    "print(\"test accuracy for F2 => \",accuracy_score(model.predict(F2_test),Y_test))\n",
    "confmatrix=confusion_matrix(Y_test, model.predict(F2_test))\n",
    "spec,sens=specandsens(confmatrix)\n",
    "print(spec,sens)# specificity and sensitivity\n",
    "Y_pred_prob=model.predict_proba(F2_test)[:,1]\n",
    "from sklearn.metrics import roc_auc_score\n",
    "print(roc_auc_score(Y_test,Y_pred_prob))"
   ]
  },
  {
   "cell_type": "code",
   "execution_count": 11,
   "metadata": {
    "collapsed": false,
    "deletable": true,
    "editable": true
   },
   "outputs": [
    {
     "name": "stdout",
     "output_type": "stream",
     "text": [
      "train accuracy for F3 =>  0.578798965464\n",
      "test accuracy for F3 =>  0.752449520026\n",
      "1.0 0.0\n",
      "0.5\n"
     ]
    }
   ],
   "source": [
    "model.fit(F3_train,Y_train)\n",
    "print(\"train accuracy for F3 => \",accuracy_score(model.predict(F3_train),Y_train))\n",
    "print(\"test accuracy for F3 => \",accuracy_score(model.predict(F3_test),Y_test))\n",
    "confmatrix=confusion_matrix(Y_test, model.predict(F3_test))\n",
    "spec,sens=specandsens(confmatrix)\n",
    "print(spec,sens)# specificity and sensitivity\n",
    "Y_pred_prob=model.predict_proba(F3_test)[:,1]\n",
    "from sklearn.metrics import roc_auc_score\n",
    "print(roc_auc_score(Y_test,Y_pred_prob))"
   ]
  },
  {
   "cell_type": "code",
   "execution_count": null,
   "metadata": {
    "collapsed": false,
    "deletable": true,
    "editable": true
   },
   "outputs": [],
   "source": [
    "model.fit(F12_train,Y_train)\n",
    "print(\"train accuracy for F12 => \",accuracy_score(model.predict(F12_train),Y_train))\n",
    "print(\"test accuracy for F12 => \",accuracy_score(model.predict(F12_test),Y_test))\n",
    "confmatrix=confusion_matrix(Y_test, model.predict(F12_test))\n",
    "spec,sens=specandsens(confmatrix)\n",
    "print(spec,sens)# specificity and sensitivity\n",
    "print (confmatrix)"
   ]
  },
  {
   "cell_type": "code",
   "execution_count": null,
   "metadata": {
    "collapsed": false,
    "deletable": true,
    "editable": true
   },
   "outputs": [],
   "source": [
    "model.fit(F23_train,Y_train)\n",
    "print(\"train accuracy for F23 => \",accuracy_score(model.predict(F23_train),Y_train))\n",
    "print(\"test accuracy for F23 => \",accuracy_score(model.predict(F23_test),Y_test))\n",
    "confmatrix=confusion_matrix(Y_test, model.predict(F23_test))\n",
    "spec,sens=specandsens(confmatrix)\n",
    "print(spec,sens)# specificity and sensitivity"
   ]
  },
  {
   "cell_type": "code",
   "execution_count": null,
   "metadata": {
    "collapsed": false,
    "deletable": true,
    "editable": true
   },
   "outputs": [],
   "source": [
    "model.fit(F13_train,Y_train)\n",
    "print(\"train accuracy for F13 => \",accuracy_score(model.predict(F13_train),Y_train))\n",
    "print(\"test accuracy for F13 => \",accuracy_score(model.predict(F13_test),Y_test))\n",
    "confmatrix=confusion_matrix(Y_test, model.predict(F13_test))\n",
    "spec,sens=specandsens(confmatrix)\n",
    "print(spec,sens)# specificity and sensitivity"
   ]
  },
  {
   "cell_type": "code",
   "execution_count": null,
   "metadata": {
    "collapsed": false,
    "deletable": true,
    "editable": true
   },
   "outputs": [],
   "source": [
    "model.fit(F123_train,Y_train)\n",
    "print(\"train accuracy for F123 => \",accuracy_score(model.predict(F123_train),Y_train))\n",
    "print(\"test accuracy for F123 => \",accuracy_score(model.predict(F123_test),Y_test))\n",
    "confmatrix=confusion_matrix(Y_test, model.predict(F123_test))\n",
    "spec,sens=specandsens(confmatrix)\n",
    "print(spec,sens)# specificity and sensitivity\n",
    "Y_pred_prob=model.predict_proba(F123_test)[:,1]\n",
    "from sklearn.metrics import roc_auc_score\n",
    "print(roc_auc_score(Y_test,Y_pred_prob))"
   ]
  },
  {
   "cell_type": "code",
   "execution_count": null,
   "metadata": {
    "collapsed": false,
    "deletable": true,
    "editable": true
   },
   "outputs": [],
   "source": [
    "from sklearn.feature_selection import RFE\n",
    "selector = RFE(model)\n",
    " "
   ]
  },
  {
   "cell_type": "code",
   "execution_count": null,
   "metadata": {
    "collapsed": false,
    "deletable": true,
    "editable": true
   },
   "outputs": [],
   "source": [
    "selector = selector.fit(F1_train, Y_train)\n",
    "X_select=selector.transform(F1_train)\n",
    "F1_test=F1_test.ix[:,3:].copy()\n",
    "#Xt_select=selector.transform(F1_test)\n",
    "model.fit(X_select,Y_train)\n",
    "print(selector.support_)\n",
    "print(\"train accuracy for RFE => \",accuracy_score(model.predict(X_select),Y_train))\n",
    "print(\"test accuracy for RFE => \",accuracy_score(model.predict(F1_test),Y_test))\n",
    "confmatrix=confusion_matrix(Y_test, model.predict(F1_test))\n",
    "spec,sens=specandsens(confmatrix)\n",
    "print(spec,sens)# specificity and sensitivity\n"
   ]
  },
  {
   "cell_type": "code",
   "execution_count": null,
   "metadata": {
    "collapsed": false,
    "deletable": true,
    "editable": true
   },
   "outputs": [],
   "source": [
    "selector = selector.fit(F2_train, Y_train)\n",
    "X_select=selector.transform(F2_train)\n",
    "Xt_select=selector.transform(F2_test)\n",
    "model.fit(X_select,Y_train)\n",
    "print(selector.support_)\n",
    "print(\"train accuracy for RFE => \",accuracy_score(model.predict(X_select),Y_train))\n",
    "print(\"test accuracy for RFE => \",accuracy_score(model.predict(Xt_select),Y_test))\n",
    "confmatrix=confusion_matrix(Y_test, model.predict(Xt_select))\n",
    "spec,sens=specandsens(confmatrix)\n",
    "print(spec,sens)# specificity and sensitivity"
   ]
  },
  {
   "cell_type": "code",
   "execution_count": null,
   "metadata": {
    "collapsed": false,
    "deletable": true,
    "editable": true
   },
   "outputs": [],
   "source": [
    "selector = selector.fit(F3_train, Y_train)\n",
    "X_select=selector.transform(F3_train)\n",
    "Xt_select=selector.transform(F3_test)\n",
    "model.fit(X_select,Y_train)\n",
    "print(selector.support_)\n",
    "print(\"train accuracy for RFE => \",accuracy_score(model.predict(X_select),Y_train))\n",
    "print(\"test accuracy for RFE => \",accuracy_score(model.predict(Xt_select),Y_test))\n",
    "confmatrix=confusion_matrix(Y_test, model.predict(Xt_select))\n",
    "spec,sens=specandsens(confmatrix)\n",
    "print(spec,sens)# specificity and sensitivity"
   ]
  },
  {
   "cell_type": "code",
   "execution_count": null,
   "metadata": {
    "collapsed": false,
    "deletable": true,
    "editable": true
   },
   "outputs": [],
   "source": [
    "selector = selector.fit(F12_train, Y_train)\n",
    "X_select=selector.transform(F12_train)\n",
    "Xt_select=selector.transform(F12_test)\n",
    "model.fit(X_select,Y_train)\n",
    "print(selector.support_)\n",
    "print(\"train accuracy for RFE => \",accuracy_score(model.predict(X_select),Y_train))\n",
    "print(\"test accuracy for RFE => \",accuracy_score(model.predict(Xt_select),Y_test))\n",
    "confmatrix=confusion_matrix(Y_test, model.predict(Xt_select))\n",
    "spec,sens=specandsens(confmatrix)\n",
    "print(spec,sens)# specificity and sensitivity"
   ]
  },
  {
   "cell_type": "code",
   "execution_count": null,
   "metadata": {
    "collapsed": false,
    "deletable": true,
    "editable": true
   },
   "outputs": [],
   "source": [
    "selector = selector.fit(F23_train, Y_train)\n",
    "X_select=selector.transform(F23_train)\n",
    "Xt_select=selector.transform(F23_test)\n",
    "model.fit(X_select,Y_train)\n",
    "print(selector.support_)\n",
    "print(\"train accuracy for RFE => \",accuracy_score(model.predict(X_select),Y_train))\n",
    "print(\"test accuracy for RFE => \",accuracy_score(model.predict(Xt_select),Y_test))\n",
    "confmatrix=confusion_matrix(Y_test, model.predict(Xt_select))\n",
    "spec,sens=specandsens(confmatrix)\n",
    "print(spec,sens)# specificity and sensitivity"
   ]
  },
  {
   "cell_type": "code",
   "execution_count": null,
   "metadata": {
    "collapsed": false,
    "deletable": true,
    "editable": true
   },
   "outputs": [],
   "source": [
    "selector = selector.fit(F13_train, Y_train)\n",
    "X_select=selector.transform(F13_train)\n",
    "Xt_select=selector.transform(F13_test)\n",
    "model.fit(X_select,Y_train)\n",
    "print(selector.support_)\n",
    "print(\"train accuracy for RFE => \",accuracy_score(model.predict(X_select),Y_train))\n",
    "print(\"test accuracy for RFE => \",accuracy_score(model.predict(Xt_select),Y_test))\n",
    "confmatrix=confusion_matrix(Y_test, model.predict(Xt_select))\n",
    "spec,sens=specandsens(confmatrix)\n",
    "print(spec,sens)# specificity and sensitivity"
   ]
  },
  {
   "cell_type": "code",
   "execution_count": null,
   "metadata": {
    "collapsed": false,
    "deletable": true,
    "editable": true
   },
   "outputs": [],
   "source": [
    "selector = selector.fit(F123_train, Y_train)\n",
    "X_select=selector.transform(F123_train)\n",
    "Xt_select=selector.transform(F123_test)\n",
    "model.fit(X_select,Y_train)\n",
    "print(selector.support_)\n",
    "print(\"train accuracy for RFE => \",accuracy_score(model.predict(X_select),Y_train))\n",
    "print(\"test accuracy for RFE => \",accuracy_score(model.predict(Xt_select),Y_test))\n",
    "confmatrix=confusion_matrix(Y_test, model.predict(Xt_select))\n",
    "spec,sens=specandsens(confmatrix)\n",
    "print(spec,sens)# specificity and sensitivity"
   ]
  },
  {
   "cell_type": "code",
   "execution_count": null,
   "metadata": {
    "collapsed": true,
    "deletable": true,
    "editable": true
   },
   "outputs": [],
   "source": []
  }
 ],
 "metadata": {
  "anaconda-cloud": {},
  "kernelspec": {
   "display_name": "Python 3",
   "language": "python",
   "name": "python3"
  },
  "language_info": {
   "codemirror_mode": {
    "name": "ipython",
    "version": 3
   },
   "file_extension": ".py",
   "mimetype": "text/x-python",
   "name": "python",
   "nbconvert_exporter": "python",
   "pygments_lexer": "ipython3",
   "version": "3.6.1"
  }
 },
 "nbformat": 4,
 "nbformat_minor": 2
}
