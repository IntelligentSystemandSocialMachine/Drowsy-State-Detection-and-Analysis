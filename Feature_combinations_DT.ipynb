{
 "cells": [
  {
   "cell_type": "markdown",
   "metadata": {
    "deletable": true,
    "editable": true
   },
   "source": [
    "Scores for DT classifier"
   ]
  },
  {
   "cell_type": "code",
   "execution_count": 1,
   "metadata": {
    "collapsed": true,
    "deletable": true,
    "editable": true
   },
   "outputs": [],
   "source": [
    "import pandas as pd \n",
    "import numpy as np \n",
    "import os \n",
    "from random import randint\n",
    "from sklearn import metrics\n",
    "from sklearn import tree\n",
    "from sklearn.metrics import accuracy_score#import accuracy_score\n",
    "from sklearn.preprocessing import MinMaxScaler\n",
    "from sklearn.feature_selection import SelectFromModel\n",
    "from sklearn.model_selection import train_test_split\n",
    "from sklearn.metrics import classification_report\n",
    "from sklearn.metrics import confusion_matrix\n",
    "\n",
    "df=pd.read_csv('fordTrain.csv')\n",
    "df1=pd.read_csv('fordTest.csv')\n",
    "\n",
    "df=df.drop(['TrialID','ObsNum','P8','V7','V9'],axis=1) \n",
    "df1=df1.drop(['TrialID','ObsNum','P8','V7','V9'],axis=1)\n",
    "\n",
    "Y_train=df['IsAlert']\n",
    "X_train=df.drop(['IsAlert'],axis=1)\n",
    "\n",
    "Y_test=df1['IsAlert']\n",
    "X_test=df1.drop(['IsAlert'],axis=1)\n",
    "#data=df.as_matrix()\n",
    "def specandsens(a):\n",
    "    spec=a[1][1]/(a[1][1]+a[1][0])\n",
    "    sens=a[0][0]/(a[0][0]+a[0][1])\n",
    "    return spec,sens"
   ]
  },
  {
   "cell_type": "code",
   "execution_count": 3,
   "metadata": {
    "collapsed": false,
    "deletable": true,
    "editable": true
   },
   "outputs": [
    {
     "data": {
      "text/plain": [
       "(604329, 27)"
      ]
     },
     "execution_count": 3,
     "metadata": {},
     "output_type": "execute_result"
    }
   ],
   "source": [
    "X_train.shape"
   ]
  },
  {
   "cell_type": "code",
   "execution_count": 4,
   "metadata": {
    "collapsed": false,
    "deletable": true,
    "editable": true
   },
   "outputs": [],
   "source": [
    "F1_train=X_train.ix[:,0:7].copy()"
   ]
  },
  {
   "cell_type": "code",
   "execution_count": 5,
   "metadata": {
    "collapsed": true,
    "deletable": true,
    "editable": true
   },
   "outputs": [],
   "source": [
    "F2_train=X_train.ix[:,7:18].copy()"
   ]
  },
  {
   "cell_type": "code",
   "execution_count": 6,
   "metadata": {
    "collapsed": true,
    "deletable": true,
    "editable": true
   },
   "outputs": [],
   "source": [
    "F3_train=X_train.ix[:,18:].copy()"
   ]
  },
  {
   "cell_type": "code",
   "execution_count": 7,
   "metadata": {
    "collapsed": true,
    "deletable": true,
    "editable": true
   },
   "outputs": [],
   "source": [
    "F1_test=X_test.ix[:,0:7].copy()\n",
    "F2_test=X_test.ix[:,7:18].copy()\n",
    "F3_test=X_test.ix[:,18:].copy()"
   ]
  },
  {
   "cell_type": "code",
   "execution_count": 8,
   "metadata": {
    "collapsed": true,
    "deletable": true,
    "editable": true
   },
   "outputs": [],
   "source": [
    "F12_train=pd.concat([F1_train,F2_train],axis=1)\n",
    "F23_train=pd.concat([F2_train,F3_train],axis=1)\n",
    "F13_train=pd.concat([F1_train,F3_train],axis=1)\n",
    "F12_test=pd.concat([F1_test,F2_test],axis=1)\n",
    "F23_test=pd.concat([F2_test,F3_test],axis=1)\n",
    "F13_test=pd.concat([F1_test,F3_test],axis=1)"
   ]
  },
  {
   "cell_type": "code",
   "execution_count": 9,
   "metadata": {
    "collapsed": true,
    "deletable": true,
    "editable": true
   },
   "outputs": [],
   "source": [
    "F123_train=pd.concat([F1_train,F2_train,F3_train],axis=1)\n",
    "F123_test=pd.concat([F1_test,F2_test,F3_test],axis=1)"
   ]
  },
  {
   "cell_type": "code",
   "execution_count": 10,
   "metadata": {
    "collapsed": false,
    "deletable": true,
    "editable": true
   },
   "outputs": [],
   "source": [
    "from sklearn.metrics import accuracy_score\n",
    "from sklearn import tree\n",
    "from sklearn.metrics import recall_score\n",
    "from sklearn.metrics import precision_score\n",
    "from sklearn.metrics import confusion_matrix\n",
    "model = tree.DecisionTreeClassifier()"
   ]
  },
  {
   "cell_type": "code",
   "execution_count": 11,
   "metadata": {
    "collapsed": false,
    "deletable": true,
    "editable": true
   },
   "outputs": [
    {
     "name": "stdout",
     "output_type": "stream",
     "text": [
      "train accuracy for F1 =>  1.0\n",
      "test accuracy for F1 =>  0.57968387951\n",
      "0.662285814838 0.328608678211\n"
     ]
    }
   ],
   "source": [
    "model.fit(F1_train,Y_train)\n",
    "print(\"train accuracy for F1 => \",accuracy_score(model.predict(F1_train),Y_train))\n",
    "print(\"test accuracy for F1 => \",accuracy_score(model.predict(F1_test),Y_test))\n",
    "confmatrix=confusion_matrix(Y_test, model.predict(F1_test))\n",
    "spec,sens=specandsens(confmatrix)\n",
    "print(spec,sens)# specificity and sensitivity\n",
    "Y_pred_prob=model.predict_proba(F1_test)[:,1]\n",
    "from sklearn.metrics import roc_auc_score\n",
    "print(roc_auc_score(Y_test,Y_pred_prob))"
   ]
  },
  {
   "cell_type": "code",
   "execution_count": 12,
   "metadata": {
    "collapsed": false,
    "deletable": true,
    "editable": true
   },
   "outputs": [
    {
     "name": "stdout",
     "output_type": "stream",
     "text": [
      "train accuracy for F2 =>  0.997269699121\n",
      "test accuracy for F2 =>  0.640359152598\n",
      "0.628357125575 0.676840275456\n"
     ]
    }
   ],
   "source": [
    "model.fit(F2_train,Y_train)\n",
    "print(\"train accuracy for F2 => \",accuracy_score(model.predict(F2_train),Y_train))\n",
    "print(\"test accuracy for F2 => \",accuracy_score(model.predict(F2_test),Y_test))\n",
    "confmatrix=confusion_matrix(Y_test, model.predict(F2_test))\n",
    "spec,sens=specandsens(confmatrix)\n",
    "print(spec,sens)# specificity and sensitivity\n",
    "Y_pred_prob=model.predict_proba(F2_test)[:,1]\n",
    "from sklearn.metrics import roc_auc_score\n",
    "print(roc_auc_score(Y_test,Y_pred_prob))"
   ]
  },
  {
   "cell_type": "code",
   "execution_count": 13,
   "metadata": {
    "collapsed": false,
    "deletable": true,
    "editable": true
   },
   "outputs": [
    {
     "name": "stdout",
     "output_type": "stream",
     "text": [
      "train accuracy for F3 =>  0.999831217764\n",
      "test accuracy for F3 =>  0.623791790798\n",
      "0.724545234586 0.317543625059\n"
     ]
    }
   ],
   "source": [
    "model.fit(F3_train,Y_train)\n",
    "print(\"train accuracy for F3 => \",accuracy_score(model.predict(F3_train),Y_train))\n",
    "print(\"test accuracy for F3 => \",accuracy_score(model.predict(F3_test),Y_test))\n",
    "confmatrix=confusion_matrix(Y_test, model.predict(F3_test))\n",
    "spec,sens=specandsens(confmatrix)\n",
    "print(spec,sens)# specificity and sensitivity\n",
    "Y_pred_prob=model.predict_proba(F3_test)[:,1]\n",
    "from sklearn.metrics import roc_auc_score\n",
    "print(roc_auc_score(Y_test,Y_pred_prob))"
   ]
  },
  {
   "cell_type": "code",
   "execution_count": 14,
   "metadata": {
    "collapsed": false,
    "deletable": true,
    "editable": true
   },
   "outputs": [
    {
     "name": "stdout",
     "output_type": "stream",
     "text": [
      "train accuracy for F12 =>  1.0\n",
      "test accuracy for F12 =>  0.706529294935\n",
      "0.722862547566 0.656883064786\n"
     ]
    }
   ],
   "source": [
    "model.fit(F12_train,Y_train)\n",
    "print(\"train accuracy for F12 => \",accuracy_score(model.predict(F12_train),Y_train))\n",
    "print(\"test accuracy for F12 => \",accuracy_score(model.predict(F12_test),Y_test))\n",
    "confmatrix=confusion_matrix(Y_test, model.predict(F12_test))\n",
    "spec,sens=specandsens(confmatrix)\n",
    "print(spec,sens)# specificity and sensitivity"
   ]
  },
  {
   "cell_type": "code",
   "execution_count": 15,
   "metadata": {
    "collapsed": false,
    "deletable": true,
    "editable": true
   },
   "outputs": [
    {
     "name": "stdout",
     "output_type": "stream",
     "text": [
      "train accuracy for F23 =>  0.999995035817\n",
      "test accuracy for F23 =>  0.719323071831\n",
      "0.758286958626 0.600889215752\n"
     ]
    }
   ],
   "source": [
    "model.fit(F23_train,Y_train)\n",
    "print(\"train accuracy for F23 => \",accuracy_score(model.predict(F23_train),Y_train))\n",
    "print(\"test accuracy for F23 => \",accuracy_score(model.predict(F23_test),Y_test))\n",
    "confmatrix=confusion_matrix(Y_test, model.predict(F23_test))\n",
    "spec,sens=specandsens(confmatrix)\n",
    "print(spec,sens)# specificity and sensitivity"
   ]
  },
  {
   "cell_type": "code",
   "execution_count": 16,
   "metadata": {
    "collapsed": false,
    "deletable": true,
    "editable": true
   },
   "outputs": [
    {
     "name": "stdout",
     "output_type": "stream",
     "text": [
      "train accuracy for F13 =>  1.0\n",
      "test accuracy for F13 =>  0.588141343926\n",
      "0.662692739151 0.361536404359\n"
     ]
    }
   ],
   "source": [
    "model.fit(F13_train,Y_train)\n",
    "print(\"train accuracy for F13 => \",accuracy_score(model.predict(F13_train),Y_train))\n",
    "print(\"test accuracy for F13 => \",accuracy_score(model.predict(F13_test),Y_test))\n",
    "confmatrix=confusion_matrix(Y_test, model.predict(F13_test))\n",
    "spec,sens=specandsens(confmatrix)\n",
    "print(spec,sens)# specificity and sensitivity"
   ]
  },
  {
   "cell_type": "code",
   "execution_count": 17,
   "metadata": {
    "collapsed": false,
    "deletable": true,
    "editable": true
   },
   "outputs": [
    {
     "name": "stdout",
     "output_type": "stream",
     "text": [
      "train accuracy for F123 =>  1.0\n",
      "test accuracy for F123 =>  0.709897384972\n",
      "0.740679233663 0.616333489336\n"
     ]
    }
   ],
   "source": [
    "model.fit(F123_train,Y_train)\n",
    "print(\"train accuracy for F123 => \",accuracy_score(model.predict(F123_train),Y_train))\n",
    "print(\"test accuracy for F123 => \",accuracy_score(model.predict(F123_test),Y_test))\n",
    "confmatrix=confusion_matrix(Y_test, model.predict(F123_test))\n",
    "spec,sens=specandsens(confmatrix)\n",
    "print(spec,sens)# specificity and sensitivity\n",
    "Y_pred_prob=model.predict_proba(F123_test)[:,1]\n",
    "from sklearn.metrics import roc_auc_score\n",
    "print(roc_auc_score(Y_test,Y_pred_prob))"
   ]
  },
  {
   "cell_type": "code",
   "execution_count": 18,
   "metadata": {
    "collapsed": false,
    "deletable": true,
    "editable": true
   },
   "outputs": [],
   "source": [
    "#Feature selection using RFE\n",
    "\n",
    "from sklearn.feature_selection import RFE\n",
    "from sklearn.ensemble import RandomForestClassifier\n",
    "modelf=RandomForestClassifier()\n",
    "selector = RFE(modelf)\n"
   ]
  },
  {
   "cell_type": "code",
   "execution_count": 20,
   "metadata": {
    "collapsed": false,
    "deletable": true,
    "editable": true
   },
   "outputs": [
    {
     "name": "stdout",
     "output_type": "stream",
     "text": [
      "[False False False  True  True False  True]\n",
      "train accuracy for RFE =>  0.972693681753\n",
      "test accuracy for RFE =>  0.546665011586\n",
      "0.236125554447 0.74514724434\n"
     ]
    }
   ],
   "source": [
    "selector = selector.fit(F1_train, Y_train)\n",
    "X_select=selector.transform(F1_train)\n",
    "Xt_select=selector.transform(F1_test)\n",
    "model.fit(X_select,Y_train)\n",
    "print(selector.support_)\n",
    "print(\"train accuracy for RFE => \",accuracy_score(model.predict(X_select),Y_train))\n",
    "print(\"test accuracy for RFE => \",accuracy_score(model.predict(Xt_select),Y_test))\n",
    "confmatrix=confusion_matrix(Y_test, model.predict(Xt_select))\n",
    "spec,sens=specandsens(confmatrix)\n",
    "print(spec,sens)# specificity and sensitivity\n"
   ]
  },
  {
   "cell_type": "code",
   "execution_count": 21,
   "metadata": {
    "collapsed": false,
    "deletable": true,
    "editable": true
   },
   "outputs": [
    {
     "name": "stdout",
     "output_type": "stream",
     "text": [
      "[ True False False False  True  True  True False False  True False]\n",
      "train accuracy for RFE =>  0.980684362326\n",
      "test accuracy for RFE =>  0.669670638861\n",
      "0.396848639842 0.852500932926\n"
     ]
    }
   ],
   "source": [
    "selector = selector.fit(F2_train, Y_train)\n",
    "X_select=selector.transform(F2_train)\n",
    "Xt_select=selector.transform(F2_test)\n",
    "model.fit(X_select,Y_train)\n",
    "print(selector.support_)\n",
    "print(\"train accuracy for RFE => \",accuracy_score(model.predict(X_select),Y_train))\n",
    "print(\"test accuracy for RFE => \",accuracy_score(model.predict(Xt_select),Y_test))\n",
    "confmatrix=confusion_matrix(Y_test, model.predict(Xt_select))\n",
    "spec,sens=specandsens(confmatrix)\n",
    "print(spec,sens)# specificity and sensitivity\n",
    "\n"
   ]
  },
  {
   "cell_type": "code",
   "execution_count": 22,
   "metadata": {
    "collapsed": false,
    "deletable": true,
    "editable": true
   },
   "outputs": [
    {
     "name": "stdout",
     "output_type": "stream",
     "text": [
      "[ True False False False False  True  True False  True]\n",
      "train accuracy for RFE =>  0.999313287961\n",
      "test accuracy for RFE =>  0.613116517709\n",
      "0.267707844706 0.761084646391\n"
     ]
    }
   ],
   "source": [
    "selector = selector.fit(F3_train, Y_train)\n",
    "X_select=selector.transform(F3_train)\n",
    "Xt_select=selector.transform(F3_test)\n",
    "model.fit(X_select,Y_train)\n",
    "print(selector.support_)\n",
    "print(\"train accuracy for RFE => \",accuracy_score(model.predict(X_select),Y_train))\n",
    "print(\"test accuracy for RFE => \",accuracy_score(model.predict(Xt_select),Y_test))\n",
    "confmatrix=confusion_matrix(Y_test, model.predict(Xt_select))\n",
    "spec,sens=specandsens(confmatrix)\n",
    "print(spec,sens)# specificity and sensitivity\n"
   ]
  },
  {
   "cell_type": "code",
   "execution_count": 23,
   "metadata": {
    "collapsed": false,
    "deletable": true,
    "editable": true
   },
   "outputs": [
    {
     "name": "stdout",
     "output_type": "stream",
     "text": [
      "[ True False False False  True  True  True  True False False False  True\n",
      "  True False False  True  True False]\n",
      "train accuracy for RFE =>  1.0\n",
      "test accuracy for RFE =>  0.702573651109\n",
      "0.43287970243 0.862014932252\n"
     ]
    }
   ],
   "source": [
    "selector = selector.fit(F12_train, Y_train)\n",
    "X_select=selector.transform(F12_train)\n",
    "Xt_select=selector.transform(F12_test)\n",
    "model.fit(X_select,Y_train)\n",
    "print(selector.support_)\n",
    "print(\"train accuracy for RFE => \",accuracy_score(model.predict(X_select),Y_train))\n",
    "print(\"test accuracy for RFE => \",accuracy_score(model.predict(Xt_select),Y_test))\n",
    "confmatrix=confusion_matrix(Y_test, model.predict(Xt_select))\n",
    "spec,sens=specandsens(confmatrix)\n",
    "print(spec,sens)# specificity and sensitivity\n"
   ]
  },
  {
   "cell_type": "code",
   "execution_count": 24,
   "metadata": {
    "collapsed": false,
    "deletable": true,
    "editable": true
   },
   "outputs": [
    {
     "name": "stdout",
     "output_type": "stream",
     "text": [
      "[False False False False  True  True  True  True  True  True False  True\n",
      " False False  True False  True False False  True]\n",
      "train accuracy for RFE =>  0.999995035817\n",
      "test accuracy for RFE =>  0.757166501159\n",
      "0.507516615677 0.871315903719\n"
     ]
    }
   ],
   "source": [
    "selector = selector.fit(F23_train, Y_train)\n",
    "X_select=selector.transform(F23_train)\n",
    "Xt_select=selector.transform(F23_test)\n",
    "model.fit(X_select,Y_train)\n",
    "print(selector.support_)\n",
    "print(\"train accuracy for RFE => \",accuracy_score(model.predict(X_select),Y_train))\n",
    "print(\"test accuracy for RFE => \",accuracy_score(model.predict(Xt_select),Y_test))\n",
    "confmatrix=confusion_matrix(Y_test, model.predict(Xt_select))\n",
    "spec,sens=specandsens(confmatrix)\n",
    "print(spec,sens)# specificity and sensitivity\n"
   ]
  },
  {
   "cell_type": "code",
   "execution_count": 25,
   "metadata": {
    "collapsed": false,
    "deletable": true,
    "editable": true
   },
   "outputs": [
    {
     "name": "stdout",
     "output_type": "stream",
     "text": [
      "[ True False False False  True  True  True  True False False  True False\n",
      "  True False False  True]\n",
      "train accuracy for RFE =>  1.0\n",
      "test accuracy for RFE =>  0.575695134062\n",
      "0.258606270202 0.758834971736\n"
     ]
    }
   ],
   "source": [
    "selector = selector.fit(F13_train, Y_train)\n",
    "X_select=selector.transform(F13_train)\n",
    "Xt_select=selector.transform(F13_test)\n",
    "model.fit(X_select,Y_train)\n",
    "print(selector.support_)\n",
    "print(\"train accuracy for RFE => \",accuracy_score(model.predict(X_select),Y_train))\n",
    "print(\"test accuracy for RFE => \",accuracy_score(model.predict(Xt_select),Y_test))\n",
    "confmatrix=confusion_matrix(Y_test, model.predict(Xt_select))\n",
    "spec,sens=specandsens(confmatrix)\n",
    "print(spec,sens)# specificity and sensitivity\n"
   ]
  },
  {
   "cell_type": "code",
   "execution_count": 26,
   "metadata": {
    "collapsed": false,
    "deletable": true,
    "editable": true
   },
   "outputs": [
    {
     "name": "stdout",
     "output_type": "stream",
     "text": [
      "[False False False False  True  True  True False False False False  True\n",
      "  True  True  True  True  True False  True False False  True False  True\n",
      " False False  True]\n",
      "train accuracy for RFE =>  0.999998345272\n",
      "test accuracy for RFE =>  0.712057265806\n",
      "0.440691146808 0.852179041548\n"
     ]
    }
   ],
   "source": [
    "selector = selector.fit(F123_train, Y_train)\n",
    "X_select=selector.transform(F123_train)\n",
    "Xt_select=selector.transform(F123_test)\n",
    "model.fit(X_select,Y_train)\n",
    "print(selector.support_)\n",
    "print(\"train accuracy for RFE => \",accuracy_score(model.predict(X_select),Y_train))\n",
    "print(\"test accuracy for RFE => \",accuracy_score(model.predict(Xt_select),Y_test))\n",
    "confmatrix=confusion_matrix(Y_test, model.predict(Xt_select))\n",
    "spec,sens=specandsens(confmatrix)\n",
    "print(spec,sens)# specificity and sensitivity\n"
   ]
  },
  {
   "cell_type": "code",
   "execution_count": null,
   "metadata": {
    "collapsed": true,
    "deletable": true,
    "editable": true
   },
   "outputs": [],
   "source": []
  }
 ],
 "metadata": {
  "anaconda-cloud": {},
  "kernelspec": {
   "display_name": "Python 3",
   "language": "python",
   "name": "python3"
  },
  "language_info": {
   "codemirror_mode": {
    "name": "ipython",
    "version": 3
   },
   "file_extension": ".py",
   "mimetype": "text/x-python",
   "name": "python",
   "nbconvert_exporter": "python",
   "pygments_lexer": "ipython3",
   "version": "3.6.1"
  }
 },
 "nbformat": 4,
 "nbformat_minor": 2
}
