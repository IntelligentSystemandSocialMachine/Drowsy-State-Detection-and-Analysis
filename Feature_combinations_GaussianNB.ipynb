{
 "cells": [
  {
   "cell_type": "markdown",
   "metadata": {
    "deletable": true,
    "editable": true
   },
   "source": [
    "### Scores for Naive Bayes classifier"
   ]
  },
  {
   "cell_type": "code",
   "execution_count": 2,
   "metadata": {
    "collapsed": true,
    "deletable": true,
    "editable": true
   },
   "outputs": [],
   "source": [
    "import pandas as pd \n",
    "import numpy as np \n",
    "import os \n",
    "from random import randint\n",
    "from sklearn import metrics\n",
    "from sklearn import tree\n",
    "from sklearn.metrics import accuracy_score#import accuracy_score\n",
    "from sklearn.preprocessing import MinMaxScaler\n",
    "from sklearn.feature_selection import SelectFromModel\n",
    "from sklearn.model_selection import train_test_split\n",
    "from sklearn.metrics import classification_report\n",
    "from sklearn.metrics import confusion_matrix\n",
    "\n",
    "df=pd.read_csv('fordTrain.csv')\n",
    "df1=pd.read_csv('fordTest.csv')\n",
    "\n",
    "df=df.drop(['TrialID','ObsNum','P8','V7','V9'],axis=1) \n",
    "df1=df1.drop(['TrialID','ObsNum','P8','V7','V9'],axis=1)\n",
    "\n",
    "Y_train=df['IsAlert']\n",
    "X_train=df.drop(['IsAlert'],axis=1)\n",
    "\n",
    "Y_test=df1['IsAlert']\n",
    "X_test=df1.drop(['IsAlert'],axis=1)\n",
    "#data=df.as_matrix()\n",
    "def specandsens(a):\n",
    "    spec=a[1][1]/(a[1][1]+a[1][0])\n",
    "    sens=a[0][0]/(a[0][0]+a[0][1])\n",
    "    return spec,sens"
   ]
  },
  {
   "cell_type": "code",
   "execution_count": 3,
   "metadata": {
    "collapsed": false,
    "deletable": true,
    "editable": true
   },
   "outputs": [],
   "source": [
    "F1_train=X_train.ix[:,0:7].copy()"
   ]
  },
  {
   "cell_type": "code",
   "execution_count": 4,
   "metadata": {
    "collapsed": true,
    "deletable": true,
    "editable": true
   },
   "outputs": [],
   "source": [
    "F2_train=X_train.ix[:,7:18].copy()"
   ]
  },
  {
   "cell_type": "code",
   "execution_count": 5,
   "metadata": {
    "collapsed": true,
    "deletable": true,
    "editable": true
   },
   "outputs": [],
   "source": [
    "F3_train=X_train.ix[:,18:].copy()"
   ]
  },
  {
   "cell_type": "code",
   "execution_count": 6,
   "metadata": {
    "collapsed": true,
    "deletable": true,
    "editable": true
   },
   "outputs": [],
   "source": [
    "F1_test=X_test.ix[:,0:7].copy()\n",
    "F2_test=X_test.ix[:,7:18].copy()\n",
    "F3_test=X_test.ix[:,18:].copy()"
   ]
  },
  {
   "cell_type": "code",
   "execution_count": 7,
   "metadata": {
    "collapsed": true,
    "deletable": true,
    "editable": true
   },
   "outputs": [],
   "source": [
    "F12_train=pd.concat([F1_train,F2_train],axis=1)\n",
    "F23_train=pd.concat([F2_train,F3_train],axis=1)\n",
    "F13_train=pd.concat([F1_train,F3_train],axis=1)\n",
    "F12_test=pd.concat([F1_test,F2_test],axis=1)\n",
    "F23_test=pd.concat([F2_test,F3_test],axis=1)\n",
    "F13_test=pd.concat([F1_test,F3_test],axis=1)"
   ]
  },
  {
   "cell_type": "code",
   "execution_count": 8,
   "metadata": {
    "collapsed": true,
    "deletable": true,
    "editable": true
   },
   "outputs": [],
   "source": [
    "F123_train=pd.concat([F1_train,F2_train,F3_train],axis=1)\n",
    "F123_test=pd.concat([F1_test,F2_test,F3_test],axis=1)"
   ]
  },
  {
   "cell_type": "code",
   "execution_count": 9,
   "metadata": {
    "collapsed": false,
    "deletable": true,
    "editable": true
   },
   "outputs": [],
   "source": [
    "from sklearn.metrics import accuracy_score\n",
    "from sklearn.naive_bayes import GaussianNB\n",
    "from sklearn.metrics import recall_score\n",
    "from sklearn.metrics import precision_score\n",
    "from sklearn.metrics import confusion_matrix\n",
    "model=GaussianNB()"
   ]
  },
  {
   "cell_type": "code",
   "execution_count": 10,
   "metadata": {
    "collapsed": false,
    "deletable": true,
    "editable": true
   },
   "outputs": [
    {
     "name": "stdout",
     "output_type": "stream",
     "text": [
      "train accuracy for F1 =>  0.439901113466\n",
      "test accuracy for F1 =>  0.260311155247\n",
      "0.0236236060093 0.979741926857\n"
     ]
    }
   ],
   "source": [
    "model.fit(F1_train,Y_train)\n",
    "print(\"train accuracy for F1 => \",accuracy_score(model.predict(F1_train),Y_train))\n",
    "print(\"test accuracy for F1 => \",accuracy_score(model.predict(F1_test),Y_test))\n",
    "confmatrix=confusion_matrix(Y_test, model.predict(F1_test))\n",
    "spec,sens=specandsens(confmatrix)\n",
    "print(spec,sens)# specificity and sensitivity"
   ]
  },
  {
   "cell_type": "code",
   "execution_count": 11,
   "metadata": {
    "collapsed": false,
    "deletable": true,
    "editable": true
   },
   "outputs": [
    {
     "name": "stdout",
     "output_type": "stream",
     "text": [
      "train accuracy for F2 =>  0.694499188356\n",
      "test accuracy for F2 =>  0.833490566038\n",
      "0.928887226976 0.54352477101\n"
     ]
    }
   ],
   "source": [
    "model.fit(F2_train,Y_train)\n",
    "print(\"train accuracy for F2 => \",accuracy_score(model.predict(F2_train),Y_train))\n",
    "print(\"test accuracy for F2 => \",accuracy_score(model.predict(F2_test),Y_test))\n",
    "confmatrix=confusion_matrix(Y_test, model.predict(F2_test))\n",
    "spec,sens=specandsens(confmatrix)\n",
    "print(spec,sens)# specificity and sensitivity"
   ]
  },
  {
   "cell_type": "code",
   "execution_count": 12,
   "metadata": {
    "collapsed": false,
    "deletable": true,
    "editable": true
   },
   "outputs": [
    {
     "name": "stdout",
     "output_type": "stream",
     "text": [
      "train accuracy for F3 =>  0.585503922532\n",
      "test accuracy for F3 =>  0.403748758689\n",
      "0.272463321822 0.80280136391\n"
     ]
    }
   ],
   "source": [
    "model.fit(F3_train,Y_train)\n",
    "print(\"train accuracy for F3 => \",accuracy_score(model.predict(F3_train),Y_train))\n",
    "print(\"test accuracy for F3 => \",accuracy_score(model.predict(F3_test),Y_test))\n",
    "confmatrix=confusion_matrix(Y_test, model.predict(F3_test))\n",
    "spec,sens=specandsens(confmatrix)\n",
    "print(spec,sens)# specificity and sensitivity"
   ]
  },
  {
   "cell_type": "code",
   "execution_count": 13,
   "metadata": {
    "collapsed": false,
    "deletable": true,
    "editable": true
   },
   "outputs": [
    {
     "name": "stdout",
     "output_type": "stream",
     "text": [
      "train accuracy for F12 =>  0.708892010809\n",
      "test accuracy for F12 =>  0.573907646475\n",
      "0.53017838682 0.706826235208\n"
     ]
    }
   ],
   "source": [
    "model.fit(F12_train,Y_train)\n",
    "print(\"train accuracy for F12 => \",accuracy_score(model.predict(F12_train),Y_train))\n",
    "print(\"test accuracy for F12 => \",accuracy_score(model.predict(F12_test),Y_test))\n",
    "confmatrix=confusion_matrix(Y_test, model.predict(F12_test))\n",
    "spec,sens=specandsens(confmatrix)\n",
    "print(spec,sens)# specificity and sensitivity"
   ]
  },
  {
   "cell_type": "code",
   "execution_count": 14,
   "metadata": {
    "collapsed": false,
    "deletable": true,
    "editable": true
   },
   "outputs": [
    {
     "name": "stdout",
     "output_type": "stream",
     "text": [
      "train accuracy for F23 =>  0.737652834797\n",
      "test accuracy for F23 =>  0.638290301225\n",
      "0.612839011944 0.715651534399\n"
     ]
    }
   ],
   "source": [
    "model.fit(F23_train,Y_train)\n",
    "print(\"train accuracy for F23 => \",accuracy_score(model.predict(F23_train),Y_train))\n",
    "print(\"test accuracy for F23 => \",accuracy_score(model.predict(F23_test),Y_test))\n",
    "confmatrix=confusion_matrix(Y_test, model.predict(F23_test))\n",
    "spec,sens=specandsens(confmatrix)\n",
    "print(spec,sens)# specificity and sensitivity"
   ]
  },
  {
   "cell_type": "code",
   "execution_count": 15,
   "metadata": {
    "collapsed": false,
    "deletable": true,
    "editable": true
   },
   "outputs": [
    {
     "name": "stdout",
     "output_type": "stream",
     "text": [
      "train accuracy for F13 =>  0.574893807843\n",
      "test accuracy for F13 =>  0.385683548494\n",
      "0.241889008644 0.82275857458\n"
     ]
    }
   ],
   "source": [
    "model.fit(F13_train,Y_train)\n",
    "print(\"train accuracy for F13 => \",accuracy_score(model.predict(F13_train),Y_train))\n",
    "print(\"test accuracy for F13 => \",accuracy_score(model.predict(F13_test),Y_test))\n",
    "confmatrix=confusion_matrix(Y_test, model.predict(F13_test))\n",
    "spec,sens=specandsens(confmatrix)\n",
    "print(spec,sens)# specificity and sensitivity"
   ]
  },
  {
   "cell_type": "code",
   "execution_count": 16,
   "metadata": {
    "collapsed": false,
    "deletable": true,
    "editable": true
   },
   "outputs": [
    {
     "name": "stdout",
     "output_type": "stream",
     "text": [
      "train accuracy for F123 =>  0.644946709491\n",
      "test accuracy for F123 =>  0.470630585899\n",
      "0.339649825133 0.868757103697\n"
     ]
    }
   ],
   "source": [
    "model.fit(F123_train,Y_train)\n",
    "print(\"train accuracy for F123 => \",accuracy_score(model.predict(F123_train),Y_train))\n",
    "print(\"test accuracy for F123 => \",accuracy_score(model.predict(F123_test),Y_test))\n",
    "confmatrix=confusion_matrix(Y_test, model.predict(F123_test))\n",
    "spec,sens=specandsens(confmatrix)\n",
    "print(spec,sens)# specificity and sensitivity"
   ]
  },
  {
   "cell_type": "code",
   "execution_count": 16,
   "metadata": {
    "collapsed": false,
    "deletable": true,
    "editable": true
   },
   "outputs": [],
   "source": [
    "#Feature selection using RFE\n",
    "\n",
    "from sklearn.feature_selection import RFE\n",
    "from sklearn.ensemble import RandomForestClassifier\n",
    "modelf=RandomForestClassifier()\n",
    "selector = RFE(modelf)\n"
   ]
  },
  {
   "cell_type": "code",
   "execution_count": 17,
   "metadata": {
    "collapsed": false,
    "deletable": true,
    "editable": true
   },
   "outputs": [
    {
     "name": "stdout",
     "output_type": "stream",
     "text": [
      "[False False  True False  True False  True]\n",
      "train accuracy for RFE =>  0.620261480088\n",
      "test accuracy for RFE =>  0.618114862628\n",
      "0.176285247079 0.733791389518\n"
     ]
    }
   ],
   "source": [
    "selector = selector.fit(F1_train, Y_train)\n",
    "X_select=selector.transform(F1_train)\n",
    "Xt_select=selector.transform(F1_test)\n",
    "model.fit(X_select,Y_train)\n",
    "print(selector.support_)\n",
    "print(\"train accuracy for RFE => \",accuracy_score(model.predict(X_select),Y_train))\n",
    "print(\"test accuracy for RFE => \",accuracy_score(model.predict(Xt_select),Y_test))\n",
    "confmatrix=confusion_matrix(Y_test, model.predict(Xt_select))\n",
    "spec,sens=specandsens(confmatrix)\n",
    "print(spec,sens)# specificity and sensitivity"
   ]
  },
  {
   "cell_type": "code",
   "execution_count": 18,
   "metadata": {
    "collapsed": false,
    "deletable": true,
    "editable": true
   },
   "outputs": [
    {
     "name": "stdout",
     "output_type": "stream",
     "text": [
      "[False  True False  True  True  True False False False  True False]\n",
      "train accuracy for RFE =>  0.696489825906\n",
      "test accuracy for RFE =>  0.779253558424\n",
      "0.55372010482 0.854222486851\n"
     ]
    }
   ],
   "source": [
    "selector = selector.fit(F2_train, Y_train)\n",
    "X_select=selector.transform(F2_train)\n",
    "Xt_select=selector.transform(F2_test)\n",
    "model.fit(X_select,Y_train)\n",
    "print(selector.support_)\n",
    "print(\"train accuracy for RFE => \",accuracy_score(model.predict(X_select),Y_train))\n",
    "print(\"test accuracy for RFE => \",accuracy_score(model.predict(Xt_select),Y_test))\n",
    "confmatrix=confusion_matrix(Y_test, model.predict(Xt_select))\n",
    "spec,sens=specandsens(confmatrix)\n",
    "print(spec,sens)# specificity and sensitivity"
   ]
  },
  {
   "cell_type": "code",
   "execution_count": 19,
   "metadata": {
    "collapsed": false,
    "deletable": true,
    "editable": true
   },
   "outputs": [
    {
     "name": "stdout",
     "output_type": "stream",
     "text": [
      "[ True False False False False  True  True False  True]\n",
      "train accuracy for RFE =>  0.584363815074\n",
      "test accuracy for RFE =>  0.404824561404\n",
      "0.266614811934 0.80807262117\n"
     ]
    }
   ],
   "source": [
    "selector = selector.fit(F3_train, Y_train)\n",
    "X_select=selector.transform(F3_train)\n",
    "Xt_select=selector.transform(F3_test)\n",
    "model.fit(X_select,Y_train)\n",
    "print(selector.support_)\n",
    "print(\"train accuracy for RFE => \",accuracy_score(model.predict(X_select),Y_train))\n",
    "print(\"test accuracy for RFE => \",accuracy_score(model.predict(Xt_select),Y_test))\n",
    "confmatrix=confusion_matrix(Y_test, model.predict(Xt_select))\n",
    "spec,sens=specandsens(confmatrix)\n",
    "print(spec,sens)# specificity and sensitivity"
   ]
  },
  {
   "cell_type": "code",
   "execution_count": 20,
   "metadata": {
    "collapsed": false,
    "deletable": true,
    "editable": true
   },
   "outputs": [
    {
     "name": "stdout",
     "output_type": "stream",
     "text": [
      "[ True False False False  True  True  True False  True False False  True\n",
      "  True  True False False  True False]\n",
      "train accuracy for RFE =>  0.548558814818\n",
      "test accuracy for RFE =>  0.434169149288\n",
      "0.272028925375 0.809044812937\n"
     ]
    }
   ],
   "source": [
    "selector = selector.fit(F12_train, Y_train)\n",
    "X_select=selector.transform(F12_train)\n",
    "Xt_select=selector.transform(F12_test)\n",
    "model.fit(X_select,Y_train)\n",
    "print(selector.support_)\n",
    "print(\"train accuracy for RFE => \",accuracy_score(model.predict(X_select),Y_train))\n",
    "print(\"test accuracy for RFE => \",accuracy_score(model.predict(Xt_select),Y_test))\n",
    "confmatrix=confusion_matrix(Y_test, model.predict(Xt_select))\n",
    "spec,sens=specandsens(confmatrix)\n",
    "print(spec,sens)# specificity and sensitivity"
   ]
  },
  {
   "cell_type": "code",
   "execution_count": 21,
   "metadata": {
    "collapsed": false,
    "deletable": true,
    "editable": true
   },
   "outputs": [
    {
     "name": "stdout",
     "output_type": "stream",
     "text": [
      "[False  True False False  True  True  True  True  True  True False  True\n",
      " False False False False  True False False  True]\n",
      "train accuracy for RFE =>  0.701705527949\n",
      "test accuracy for RFE =>  0.831007944389\n",
      "0.706612109868 0.860208241798\n"
     ]
    }
   ],
   "source": [
    "selector = selector.fit(F23_train, Y_train)\n",
    "X_select=selector.transform(F23_train)\n",
    "Xt_select=selector.transform(F23_test)\n",
    "model.fit(X_select,Y_train)\n",
    "print(selector.support_)\n",
    "print(\"train accuracy for RFE => \",accuracy_score(model.predict(X_select),Y_train))\n",
    "print(\"test accuracy for RFE => \",accuracy_score(model.predict(Xt_select),Y_test))\n",
    "confmatrix=confusion_matrix(Y_test, model.predict(Xt_select))\n",
    "spec,sens=specandsens(confmatrix)\n",
    "print(spec,sens)# specificity and sensitivity"
   ]
  },
  {
   "cell_type": "code",
   "execution_count": 22,
   "metadata": {
    "collapsed": false,
    "deletable": true,
    "editable": true
   },
   "outputs": [
    {
     "name": "stdout",
     "output_type": "stream",
     "text": [
      "[ True False False False  True  True  True  True False False  True False\n",
      "  True False False  True]\n",
      "train accuracy for RFE =>  0.567573292031\n",
      "test accuracy for RFE =>  0.372707712678\n",
      "0.260100376412 0.800079365079\n"
     ]
    }
   ],
   "source": [
    "selector = selector.fit(F13_train, Y_train)\n",
    "X_select=selector.transform(F13_train)\n",
    "Xt_select=selector.transform(F13_test)\n",
    "model.fit(X_select,Y_train)\n",
    "print(selector.support_)\n",
    "print(\"train accuracy for RFE => \",accuracy_score(model.predict(X_select),Y_train))\n",
    "print(\"test accuracy for RFE => \",accuracy_score(model.predict(Xt_select),Y_test))\n",
    "confmatrix=confusion_matrix(Y_test, model.predict(Xt_select))\n",
    "spec,sens=specandsens(confmatrix)\n",
    "print(spec,sens)# specificity and sensitivity"
   ]
  },
  {
   "cell_type": "code",
   "execution_count": 23,
   "metadata": {
    "collapsed": false,
    "deletable": true,
    "editable": true
   },
   "outputs": [
    {
     "name": "stdout",
     "output_type": "stream",
     "text": [
      "[ True False False False  True  True  True False False False False  True\n",
      "  True  True  True  True  True False  True False False False False  True\n",
      " False False  True]\n",
      "train accuracy for RFE =>  0.705438593878\n",
      "test accuracy for RFE =>  0.575479973519\n",
      "0.338830019746 0.863570471769\n"
     ]
    }
   ],
   "source": [
    "selector = selector.fit(F123_train, Y_train)\n",
    "X_select=selector.transform(F123_train)\n",
    "Xt_select=selector.transform(F123_test)\n",
    "model.fit(X_select,Y_train)\n",
    "print(selector.support_)\n",
    "print(\"train accuracy for RFE => \",accuracy_score(model.predict(X_select),Y_train))\n",
    "print(\"test accuracy for RFE => \",accuracy_score(model.predict(Xt_select),Y_test))\n",
    "confmatrix=confusion_matrix(Y_test, model.predict(Xt_select))\n",
    "spec,sens=specandsens(confmatrix)\n",
    "print(spec,sens)# specificity and sensitivity"
   ]
  },
  {
   "cell_type": "code",
   "execution_count": null,
   "metadata": {
    "collapsed": true,
    "deletable": true,
    "editable": true
   },
   "outputs": [],
   "source": []
  }
 ],
 "metadata": {
  "anaconda-cloud": {},
  "kernelspec": {
   "display_name": "Python 3",
   "language": "python",
   "name": "python3"
  },
  "language_info": {
   "codemirror_mode": {
    "name": "ipython",
    "version": 3
   },
   "file_extension": ".py",
   "mimetype": "text/x-python",
   "name": "python",
   "nbconvert_exporter": "python",
   "pygments_lexer": "ipython3",
   "version": "3.6.1"
  }
 },
 "nbformat": 4,
 "nbformat_minor": 2
}
