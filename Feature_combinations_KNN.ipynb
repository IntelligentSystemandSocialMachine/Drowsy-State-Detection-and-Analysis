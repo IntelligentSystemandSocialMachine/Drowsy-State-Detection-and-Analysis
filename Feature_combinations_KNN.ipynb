{
 "cells": [
  {
   "cell_type": "markdown",
   "metadata": {
    "deletable": true,
    "editable": true
   },
   "source": [
    "### Scores for KNN classifier"
   ]
  },
  {
   "cell_type": "code",
   "execution_count": 1,
   "metadata": {
    "collapsed": true,
    "deletable": true,
    "editable": true
   },
   "outputs": [],
   "source": [
    "import pandas as pd \n",
    "import numpy as np \n",
    "import os \n",
    "from random import randint\n",
    "from sklearn import metrics\n",
    "from sklearn import tree\n",
    "from sklearn.metrics import accuracy_score#import accuracy_score\n",
    "from sklearn.preprocessing import MinMaxScaler\n",
    "from sklearn.feature_selection import SelectFromModel\n",
    "from sklearn.model_selection import train_test_split\n",
    "from sklearn.metrics import classification_report\n",
    "from sklearn.metrics import confusion_matrix\n",
    "\n",
    "df=pd.read_csv('fordTrain.csv')\n",
    "df1=pd.read_csv('fordTest.csv')\n",
    "\n",
    "df=df.drop(['TrialID','ObsNum','P8','V7','V9'],axis=1) \n",
    "df1=df1.drop(['TrialID','ObsNum','P8','V7','V9'],axis=1)\n",
    "\n",
    "Y_train=df['IsAlert']\n",
    "X_train=df.drop(['IsAlert'],axis=1)\n",
    "\n",
    "Y_test=df1['IsAlert']\n",
    "X_test=df1.drop(['IsAlert'],axis=1)\n",
    "#data=df.as_matrix()\n",
    "def specandsens(a):\n",
    "    spec=a[1][1]/(a[1][1]+a[1][0])\n",
    "    sens=a[0][0]/(a[0][0]+a[0][1])\n",
    "    return spec,sens"
   ]
  },
  {
   "cell_type": "code",
   "execution_count": 2,
   "metadata": {
    "collapsed": false,
    "deletable": true,
    "editable": true
   },
   "outputs": [],
   "source": [
    "F1_train=X_train.ix[:,0:7].copy()"
   ]
  },
  {
   "cell_type": "code",
   "execution_count": 4,
   "metadata": {
    "collapsed": true,
    "deletable": true,
    "editable": true
   },
   "outputs": [],
   "source": [
    "F2_train=X_train.ix[:,7:18].copy()"
   ]
  },
  {
   "cell_type": "code",
   "execution_count": 5,
   "metadata": {
    "collapsed": true,
    "deletable": true,
    "editable": true
   },
   "outputs": [],
   "source": [
    "F3_train=X_train.ix[:,18:].copy()"
   ]
  },
  {
   "cell_type": "code",
   "execution_count": 6,
   "metadata": {
    "collapsed": true,
    "deletable": true,
    "editable": true
   },
   "outputs": [],
   "source": [
    "F1_test=X_test.ix[:,0:7].copy()\n",
    "F2_test=X_test.ix[:,7:18].copy()\n",
    "F3_test=X_test.ix[:,18:].copy()"
   ]
  },
  {
   "cell_type": "code",
   "execution_count": 7,
   "metadata": {
    "collapsed": true,
    "deletable": true,
    "editable": true
   },
   "outputs": [],
   "source": [
    "F12_train=pd.concat([F1_train,F2_train],axis=1)\n",
    "F23_train=pd.concat([F2_train,F3_train],axis=1)\n",
    "F13_train=pd.concat([F1_train,F3_train],axis=1)\n",
    "F12_test=pd.concat([F1_test,F2_test],axis=1)\n",
    "F23_test=pd.concat([F2_test,F3_test],axis=1)\n",
    "F13_test=pd.concat([F1_test,F3_test],axis=1)"
   ]
  },
  {
   "cell_type": "code",
   "execution_count": 8,
   "metadata": {
    "collapsed": true,
    "deletable": true,
    "editable": true
   },
   "outputs": [],
   "source": [
    "F123_train=pd.concat([F1_train,F2_train,F3_train],axis=1)\n",
    "F123_test=pd.concat([F1_test,F2_test,F3_test],axis=1)"
   ]
  },
  {
   "cell_type": "code",
   "execution_count": 9,
   "metadata": {
    "collapsed": false,
    "deletable": true,
    "editable": true
   },
   "outputs": [],
   "source": [
    "from sklearn.metrics import accuracy_score\n",
    "from sklearn.metrics import recall_score\n",
    "from sklearn.metrics import precision_score\n",
    "from sklearn.metrics import confusion_matrix\n",
    "from sklearn.neighbors import KNeighborsClassifier\n",
    "model=KNeighborsClassifier(n_neighbors=5,weights='distance',algorithm='auto',p=2)"
   ]
  },
  {
   "cell_type": "code",
   "execution_count": 10,
   "metadata": {
    "collapsed": false,
    "deletable": true,
    "editable": true
   },
   "outputs": [
    {
     "name": "stdout",
     "output_type": "stream",
     "text": [
      "train accuracy for F1 =>  1.0\n",
      "test accuracy for F1 =>  0.58653591526\n",
      "0.687218177419 0.280504111787\n"
     ]
    }
   ],
   "source": [
    "model.fit(F1_train,Y_train)\n",
    "print(\"train accuracy for F1 => \",accuracy_score(model.predict(F1_train),Y_train))\n",
    "print(\"test accuracy for F1 => \",accuracy_score(model.predict(F1_test),Y_test))\n",
    "confmatrix=confusion_matrix(Y_test, model.predict(F1_test))\n",
    "spec,sens=specandsens(confmatrix)\n",
    "print(spec,sens)# specificity and sensitivity"
   ]
  },
  {
   "cell_type": "code",
   "execution_count": 11,
   "metadata": {
    "collapsed": false,
    "deletable": true,
    "editable": true
   },
   "outputs": [
    {
     "name": "stdout",
     "output_type": "stream",
     "text": [
      "train accuracy for F2 =>  0.996137865302\n",
      "test accuracy for F2 =>  0.626638530288\n",
      "0.609561621538 0.6785451628\n"
     ]
    }
   ],
   "source": [
    "model.fit(F2_train,Y_train)\n",
    "print(\"train accuracy for F2 => \",accuracy_score(model.predict(F2_train),Y_train))\n",
    "print(\"test accuracy for F2 => \",accuracy_score(model.predict(F2_test),Y_test))\n",
    "confmatrix=confusion_matrix(Y_test, model.predict(F2_test))\n",
    "spec,sens=specandsens(confmatrix)\n",
    "print(spec,sens)# specificity and sensitivity"
   ]
  },
  {
   "cell_type": "code",
   "execution_count": 12,
   "metadata": {
    "collapsed": false,
    "deletable": true,
    "editable": true
   },
   "outputs": [
    {
     "name": "stdout",
     "output_type": "stream",
     "text": [
      "train accuracy for F3 =>  0.999831217764\n",
      "test accuracy for F3 =>  0.640607414763\n",
      "0.757473110002 0.285384769673\n"
     ]
    }
   ],
   "source": [
    "model.fit(F3_train,Y_train)\n",
    "print(\"train accuracy for F3 => \",accuracy_score(model.predict(F3_train),Y_train))\n",
    "print(\"test accuracy for F3 => \",accuracy_score(model.predict(F3_test),Y_test))\n",
    "confmatrix=confusion_matrix(Y_test, model.predict(F3_test))\n",
    "spec,sens=specandsens(confmatrix)\n",
    "print(spec,sens)# specificity and sensitivity"
   ]
  },
  {
   "cell_type": "code",
   "execution_count": 13,
   "metadata": {
    "collapsed": false,
    "deletable": true,
    "editable": true
   },
   "outputs": [
    {
     "name": "stdout",
     "output_type": "stream",
     "text": [
      "train accuracy for F12 =>  1.0\n",
      "test accuracy for F12 =>  0.665516385303\n",
      "0.7400193564 0.439058634753\n",
      "[[13134 16780]\n",
      " [23639 67287]]\n"
     ]
    }
   ],
   "source": [
    "model.fit(F12_train,Y_train)\n",
    "print(\"train accuracy for F12 => \",accuracy_score(model.predict(F12_train),Y_train))\n",
    "print(\"test accuracy for F12 => \",accuracy_score(model.predict(F12_test),Y_test))\n",
    "confmatrix=confusion_matrix(Y_test, model.predict(F12_test))\n",
    "spec,sens=specandsens(confmatrix)\n",
    "print(spec,sens)# specificity and sensitivity\n",
    "print (confmatrix)"
   ]
  },
  {
   "cell_type": "code",
   "execution_count": 14,
   "metadata": {
    "collapsed": false,
    "deletable": true,
    "editable": true
   },
   "outputs": [
    {
     "name": "stdout",
     "output_type": "stream",
     "text": [
      "train accuracy for F23 =>  0.999995035817\n",
      "test accuracy for F23 =>  0.675951671632\n",
      "0.735829135781 0.493949321388\n"
     ]
    }
   ],
   "source": [
    "model.fit(F23_train,Y_train)\n",
    "print(\"train accuracy for F23 => \",accuracy_score(model.predict(F23_train),Y_train))\n",
    "print(\"test accuracy for F23 => \",accuracy_score(model.predict(F23_test),Y_test))\n",
    "confmatrix=confusion_matrix(Y_test, model.predict(F23_test))\n",
    "spec,sens=specandsens(confmatrix)\n",
    "print(spec,sens)# specificity and sensitivity"
   ]
  },
  {
   "cell_type": "code",
   "execution_count": 15,
   "metadata": {
    "collapsed": false,
    "deletable": true,
    "editable": true
   },
   "outputs": [
    {
     "name": "stdout",
     "output_type": "stream",
     "text": [
      "train accuracy for F13 =>  1.0\n",
      "test accuracy for F13 =>  0.589175769613\n",
      "0.677506983701 0.320685966437\n"
     ]
    }
   ],
   "source": [
    "model.fit(F13_train,Y_train)\n",
    "print(\"train accuracy for F13 => \",accuracy_score(model.predict(F13_train),Y_train))\n",
    "print(\"test accuracy for F13 => \",accuracy_score(model.predict(F13_test),Y_test))\n",
    "confmatrix=confusion_matrix(Y_test, model.predict(F13_test))\n",
    "spec,sens=specandsens(confmatrix)\n",
    "print(spec,sens)# specificity and sensitivity"
   ]
  },
  {
   "cell_type": "code",
   "execution_count": 16,
   "metadata": {
    "collapsed": false,
    "deletable": true,
    "editable": true
   },
   "outputs": [
    {
     "name": "stdout",
     "output_type": "stream",
     "text": [
      "train accuracy for F123 =>  1.0\n",
      "test accuracy for F123 =>  0.627797087057\n",
      "0.726183929789 0.328742394865\n"
     ]
    }
   ],
   "source": [
    "model.fit(F123_train,Y_train)\n",
    "print(\"train accuracy for F123 => \",accuracy_score(model.predict(F123_train),Y_train))\n",
    "print(\"test accuracy for F123 => \",accuracy_score(model.predict(F123_test),Y_test))\n",
    "confmatrix=confusion_matrix(Y_test, model.predict(F123_test))\n",
    "spec,sens=specandsens(confmatrix)\n",
    "print(spec,sens)# specificity and sensitivity"
   ]
  },
  {
   "cell_type": "code",
   "execution_count": 11,
   "metadata": {
    "collapsed": false,
    "deletable": true,
    "editable": true
   },
   "outputs": [],
   "source": [
    "from sklearn.feature_selection import RFE\n",
    "selector = RFE(model)\n",
    " "
   ]
  },
  {
   "cell_type": "code",
   "execution_count": 15,
   "metadata": {
    "collapsed": false,
    "deletable": true,
    "editable": true
   },
   "outputs": [
    {
     "name": "stdout",
     "output_type": "stream",
     "text": [
      "[False False  True False  True False  True]\n",
      "train accuracy for RFE =>  0.972574541351\n"
     ]
    },
    {
     "ename": "ValueError",
     "evalue": "Found array with 0 feature(s) (shape=(120840, 0)) while a minimum of 1 is required.",
     "output_type": "error",
     "traceback": [
      "\u001b[0;31m---------------------------------------------------------------------------\u001b[0m",
      "\u001b[0;31mValueError\u001b[0m                                Traceback (most recent call last)",
      "\u001b[0;32m<ipython-input-15-74895c0441ce>\u001b[0m in \u001b[0;36m<module>\u001b[0;34m()\u001b[0m\n\u001b[1;32m      6\u001b[0m \u001b[0mprint\u001b[0m\u001b[0;34m(\u001b[0m\u001b[0mselector\u001b[0m\u001b[0;34m.\u001b[0m\u001b[0msupport_\u001b[0m\u001b[0;34m)\u001b[0m\u001b[0;34m\u001b[0m\u001b[0m\n\u001b[1;32m      7\u001b[0m \u001b[0mprint\u001b[0m\u001b[0;34m(\u001b[0m\u001b[0;34m\"train accuracy for RFE => \"\u001b[0m\u001b[0;34m,\u001b[0m\u001b[0maccuracy_score\u001b[0m\u001b[0;34m(\u001b[0m\u001b[0mmodel\u001b[0m\u001b[0;34m.\u001b[0m\u001b[0mpredict\u001b[0m\u001b[0;34m(\u001b[0m\u001b[0mX_select\u001b[0m\u001b[0;34m)\u001b[0m\u001b[0;34m,\u001b[0m\u001b[0mY_train\u001b[0m\u001b[0;34m)\u001b[0m\u001b[0;34m)\u001b[0m\u001b[0;34m\u001b[0m\u001b[0m\n\u001b[0;32m----> 8\u001b[0;31m \u001b[0mprint\u001b[0m\u001b[0;34m(\u001b[0m\u001b[0;34m\"test accuracy for RFE => \"\u001b[0m\u001b[0;34m,\u001b[0m\u001b[0maccuracy_score\u001b[0m\u001b[0;34m(\u001b[0m\u001b[0mmodel\u001b[0m\u001b[0;34m.\u001b[0m\u001b[0mpredict\u001b[0m\u001b[0;34m(\u001b[0m\u001b[0mF1_test\u001b[0m\u001b[0;34m)\u001b[0m\u001b[0;34m,\u001b[0m\u001b[0mY_test\u001b[0m\u001b[0;34m)\u001b[0m\u001b[0;34m)\u001b[0m\u001b[0;34m\u001b[0m\u001b[0m\n\u001b[0m\u001b[1;32m      9\u001b[0m \u001b[0mconfmatrix\u001b[0m\u001b[0;34m=\u001b[0m\u001b[0mconfusion_matrix\u001b[0m\u001b[0;34m(\u001b[0m\u001b[0mY_test\u001b[0m\u001b[0;34m,\u001b[0m \u001b[0mmodel\u001b[0m\u001b[0;34m.\u001b[0m\u001b[0mpredict\u001b[0m\u001b[0;34m(\u001b[0m\u001b[0mF1_test\u001b[0m\u001b[0;34m)\u001b[0m\u001b[0;34m)\u001b[0m\u001b[0;34m\u001b[0m\u001b[0m\n\u001b[1;32m     10\u001b[0m \u001b[0mspec\u001b[0m\u001b[0;34m,\u001b[0m\u001b[0msens\u001b[0m\u001b[0;34m=\u001b[0m\u001b[0mspecandsens\u001b[0m\u001b[0;34m(\u001b[0m\u001b[0mconfmatrix\u001b[0m\u001b[0;34m)\u001b[0m\u001b[0;34m\u001b[0m\u001b[0m\n",
      "\u001b[0;32m/home/arjun/anaconda3/lib/python3.6/site-packages/sklearn/ensemble/forest.py\u001b[0m in \u001b[0;36mpredict\u001b[0;34m(self, X)\u001b[0m\n\u001b[1;32m    532\u001b[0m             \u001b[0mThe\u001b[0m \u001b[0mpredicted\u001b[0m \u001b[0mclasses\u001b[0m\u001b[0;34m.\u001b[0m\u001b[0;34m\u001b[0m\u001b[0m\n\u001b[1;32m    533\u001b[0m         \"\"\"\n\u001b[0;32m--> 534\u001b[0;31m         \u001b[0mproba\u001b[0m \u001b[0;34m=\u001b[0m \u001b[0mself\u001b[0m\u001b[0;34m.\u001b[0m\u001b[0mpredict_proba\u001b[0m\u001b[0;34m(\u001b[0m\u001b[0mX\u001b[0m\u001b[0;34m)\u001b[0m\u001b[0;34m\u001b[0m\u001b[0m\n\u001b[0m\u001b[1;32m    535\u001b[0m \u001b[0;34m\u001b[0m\u001b[0m\n\u001b[1;32m    536\u001b[0m         \u001b[0;32mif\u001b[0m \u001b[0mself\u001b[0m\u001b[0;34m.\u001b[0m\u001b[0mn_outputs_\u001b[0m \u001b[0;34m==\u001b[0m \u001b[0;36m1\u001b[0m\u001b[0;34m:\u001b[0m\u001b[0;34m\u001b[0m\u001b[0m\n",
      "\u001b[0;32m/home/arjun/anaconda3/lib/python3.6/site-packages/sklearn/ensemble/forest.py\u001b[0m in \u001b[0;36mpredict_proba\u001b[0;34m(self, X)\u001b[0m\n\u001b[1;32m    571\u001b[0m         \"\"\"\n\u001b[1;32m    572\u001b[0m         \u001b[0;31m# Check data\u001b[0m\u001b[0;34m\u001b[0m\u001b[0;34m\u001b[0m\u001b[0m\n\u001b[0;32m--> 573\u001b[0;31m         \u001b[0mX\u001b[0m \u001b[0;34m=\u001b[0m \u001b[0mself\u001b[0m\u001b[0;34m.\u001b[0m\u001b[0m_validate_X_predict\u001b[0m\u001b[0;34m(\u001b[0m\u001b[0mX\u001b[0m\u001b[0;34m)\u001b[0m\u001b[0;34m\u001b[0m\u001b[0m\n\u001b[0m\u001b[1;32m    574\u001b[0m \u001b[0;34m\u001b[0m\u001b[0m\n\u001b[1;32m    575\u001b[0m         \u001b[0;31m# Assign chunk of trees to jobs\u001b[0m\u001b[0;34m\u001b[0m\u001b[0;34m\u001b[0m\u001b[0m\n",
      "\u001b[0;32m/home/arjun/anaconda3/lib/python3.6/site-packages/sklearn/ensemble/forest.py\u001b[0m in \u001b[0;36m_validate_X_predict\u001b[0;34m(self, X)\u001b[0m\n\u001b[1;32m    353\u001b[0m                                  \"call `fit` before exploiting the model.\")\n\u001b[1;32m    354\u001b[0m \u001b[0;34m\u001b[0m\u001b[0m\n\u001b[0;32m--> 355\u001b[0;31m         \u001b[0;32mreturn\u001b[0m \u001b[0mself\u001b[0m\u001b[0;34m.\u001b[0m\u001b[0mestimators_\u001b[0m\u001b[0;34m[\u001b[0m\u001b[0;36m0\u001b[0m\u001b[0;34m]\u001b[0m\u001b[0;34m.\u001b[0m\u001b[0m_validate_X_predict\u001b[0m\u001b[0;34m(\u001b[0m\u001b[0mX\u001b[0m\u001b[0;34m,\u001b[0m \u001b[0mcheck_input\u001b[0m\u001b[0;34m=\u001b[0m\u001b[0;32mTrue\u001b[0m\u001b[0;34m)\u001b[0m\u001b[0;34m\u001b[0m\u001b[0m\n\u001b[0m\u001b[1;32m    356\u001b[0m \u001b[0;34m\u001b[0m\u001b[0m\n\u001b[1;32m    357\u001b[0m     \u001b[0;34m@\u001b[0m\u001b[0mproperty\u001b[0m\u001b[0;34m\u001b[0m\u001b[0m\n",
      "\u001b[0;32m/home/arjun/anaconda3/lib/python3.6/site-packages/sklearn/tree/tree.py\u001b[0m in \u001b[0;36m_validate_X_predict\u001b[0;34m(self, X, check_input)\u001b[0m\n\u001b[1;32m    363\u001b[0m \u001b[0;34m\u001b[0m\u001b[0m\n\u001b[1;32m    364\u001b[0m         \u001b[0;32mif\u001b[0m \u001b[0mcheck_input\u001b[0m\u001b[0;34m:\u001b[0m\u001b[0;34m\u001b[0m\u001b[0m\n\u001b[0;32m--> 365\u001b[0;31m             \u001b[0mX\u001b[0m \u001b[0;34m=\u001b[0m \u001b[0mcheck_array\u001b[0m\u001b[0;34m(\u001b[0m\u001b[0mX\u001b[0m\u001b[0;34m,\u001b[0m \u001b[0mdtype\u001b[0m\u001b[0;34m=\u001b[0m\u001b[0mDTYPE\u001b[0m\u001b[0;34m,\u001b[0m \u001b[0maccept_sparse\u001b[0m\u001b[0;34m=\u001b[0m\u001b[0;34m\"csr\"\u001b[0m\u001b[0;34m)\u001b[0m\u001b[0;34m\u001b[0m\u001b[0m\n\u001b[0m\u001b[1;32m    366\u001b[0m             if issparse(X) and (X.indices.dtype != np.intc or\n\u001b[1;32m    367\u001b[0m                                 X.indptr.dtype != np.intc):\n",
      "\u001b[0;32m/home/arjun/anaconda3/lib/python3.6/site-packages/sklearn/utils/validation.py\u001b[0m in \u001b[0;36mcheck_array\u001b[0;34m(array, accept_sparse, dtype, order, copy, force_all_finite, ensure_2d, allow_nd, ensure_min_samples, ensure_min_features, warn_on_dtype, estimator)\u001b[0m\n\u001b[1;32m    422\u001b[0m                              \u001b[0;34m\" a minimum of %d is required%s.\"\u001b[0m\u001b[0;34m\u001b[0m\u001b[0m\n\u001b[1;32m    423\u001b[0m                              % (n_features, shape_repr, ensure_min_features,\n\u001b[0;32m--> 424\u001b[0;31m                                 context))\n\u001b[0m\u001b[1;32m    425\u001b[0m \u001b[0;34m\u001b[0m\u001b[0m\n\u001b[1;32m    426\u001b[0m     \u001b[0;32mif\u001b[0m \u001b[0mwarn_on_dtype\u001b[0m \u001b[0;32mand\u001b[0m \u001b[0mdtype_orig\u001b[0m \u001b[0;32mis\u001b[0m \u001b[0;32mnot\u001b[0m \u001b[0;32mNone\u001b[0m \u001b[0;32mand\u001b[0m \u001b[0marray\u001b[0m\u001b[0;34m.\u001b[0m\u001b[0mdtype\u001b[0m \u001b[0;34m!=\u001b[0m \u001b[0mdtype_orig\u001b[0m\u001b[0;34m:\u001b[0m\u001b[0;34m\u001b[0m\u001b[0m\n",
      "\u001b[0;31mValueError\u001b[0m: Found array with 0 feature(s) (shape=(120840, 0)) while a minimum of 1 is required."
     ]
    }
   ],
   "source": [
    "selector = selector.fit(F1_train, Y_train)\n",
    "X_select=selector.transform(F1_train)\n",
    "F1_test=F1_test.ix[:,3:].copy()\n",
    "#Xt_select=selector.transform(F1_test)\n",
    "model.fit(X_select,Y_train)\n",
    "print(selector.support_)\n",
    "print(\"train accuracy for RFE => \",accuracy_score(model.predict(X_select),Y_train))\n",
    "print(\"test accuracy for RFE => \",accuracy_score(model.predict(F1_test),Y_test))\n",
    "confmatrix=confusion_matrix(Y_test, model.predict(F1_test))\n",
    "spec,sens=specandsens(confmatrix)\n",
    "print(spec,sens)# specificity and sensitivity\n"
   ]
  },
  {
   "cell_type": "code",
   "execution_count": 18,
   "metadata": {
    "collapsed": false,
    "deletable": true,
    "editable": true
   },
   "outputs": [
    {
     "name": "stdout",
     "output_type": "stream",
     "text": [
      "[False  True False  True  True  True False False False  True False]\n",
      "train accuracy for RFE =>  0.994716454117\n",
      "test accuracy for RFE =>  0.642792121814\n",
      "0.381976236707 0.869078713506\n"
     ]
    }
   ],
   "source": [
    "selector = selector.fit(F2_train, Y_train)\n",
    "X_select=selector.transform(F2_train)\n",
    "Xt_select=selector.transform(F2_test)\n",
    "model.fit(X_select,Y_train)\n",
    "print(selector.support_)\n",
    "print(\"train accuracy for RFE => \",accuracy_score(model.predict(X_select),Y_train))\n",
    "print(\"test accuracy for RFE => \",accuracy_score(model.predict(Xt_select),Y_test))\n",
    "confmatrix=confusion_matrix(Y_test, model.predict(Xt_select))\n",
    "spec,sens=specandsens(confmatrix)\n",
    "print(spec,sens)# specificity and sensitivity"
   ]
  },
  {
   "cell_type": "code",
   "execution_count": 19,
   "metadata": {
    "collapsed": false,
    "deletable": true,
    "editable": true
   },
   "outputs": [
    {
     "name": "stdout",
     "output_type": "stream",
     "text": [
      "[ True False False False False  True  True False  True]\n",
      "train accuracy for RFE =>  0.993748438351\n",
      "test accuracy for RFE =>  0.627557100298\n",
      "0.270177255284 0.760891302866\n"
     ]
    }
   ],
   "source": [
    "selector = selector.fit(F3_train, Y_train)\n",
    "X_select=selector.transform(F3_train)\n",
    "Xt_select=selector.transform(F3_test)\n",
    "model.fit(X_select,Y_train)\n",
    "print(selector.support_)\n",
    "print(\"train accuracy for RFE => \",accuracy_score(model.predict(X_select),Y_train))\n",
    "print(\"test accuracy for RFE => \",accuracy_score(model.predict(Xt_select),Y_test))\n",
    "confmatrix=confusion_matrix(Y_test, model.predict(Xt_select))\n",
    "spec,sens=specandsens(confmatrix)\n",
    "print(spec,sens)# specificity and sensitivity"
   ]
  },
  {
   "cell_type": "code",
   "execution_count": 20,
   "metadata": {
    "collapsed": false,
    "deletable": true,
    "editable": true
   },
   "outputs": [
    {
     "name": "stdout",
     "output_type": "stream",
     "text": [
      "[ True False False False  True  True  True  True False False False  True\n",
      "  True False False  True  True False]\n",
      "train accuracy for RFE =>  0.99994704871\n",
      "test accuracy for RFE =>  0.727979145978\n",
      "0.464803485133 0.86821508759\n"
     ]
    }
   ],
   "source": [
    "selector = selector.fit(F12_train, Y_train)\n",
    "X_select=selector.transform(F12_train)\n",
    "Xt_select=selector.transform(F12_test)\n",
    "model.fit(X_select,Y_train)\n",
    "print(selector.support_)\n",
    "print(\"train accuracy for RFE => \",accuracy_score(model.predict(X_select),Y_train))\n",
    "print(\"test accuracy for RFE => \",accuracy_score(model.predict(Xt_select),Y_test))\n",
    "confmatrix=confusion_matrix(Y_test, model.predict(Xt_select))\n",
    "spec,sens=specandsens(confmatrix)\n",
    "print(spec,sens)# specificity and sensitivity"
   ]
  },
  {
   "cell_type": "code",
   "execution_count": 21,
   "metadata": {
    "collapsed": false,
    "deletable": true,
    "editable": true
   },
   "outputs": [
    {
     "name": "stdout",
     "output_type": "stream",
     "text": [
      "[False False False False  True  True  True  True  True  True False  True\n",
      " False False  True False  True False False  True]\n",
      "train accuracy for RFE =>  0.999925537249\n",
      "test accuracy for RFE =>  0.817999006951\n",
      "0.64837223242 0.866092387437\n"
     ]
    }
   ],
   "source": [
    "selector = selector.fit(F23_train, Y_train)\n",
    "X_select=selector.transform(F23_train)\n",
    "Xt_select=selector.transform(F23_test)\n",
    "model.fit(X_select,Y_train)\n",
    "print(selector.support_)\n",
    "print(\"train accuracy for RFE => \",accuracy_score(model.predict(X_select),Y_train))\n",
    "print(\"test accuracy for RFE => \",accuracy_score(model.predict(Xt_select),Y_test))\n",
    "confmatrix=confusion_matrix(Y_test, model.predict(Xt_select))\n",
    "spec,sens=specandsens(confmatrix)\n",
    "print(spec,sens)# specificity and sensitivity"
   ]
  },
  {
   "cell_type": "code",
   "execution_count": 22,
   "metadata": {
    "collapsed": false,
    "deletable": true,
    "editable": true
   },
   "outputs": [
    {
     "name": "stdout",
     "output_type": "stream",
     "text": [
      "[ True False False False  True  True  True  True False False  True False\n",
      "  True False False  True]\n",
      "train accuracy for RFE =>  0.999531712031\n",
      "test accuracy for RFE =>  0.619571333995\n",
      "0.270082190212 0.761606592102\n"
     ]
    }
   ],
   "source": [
    "selector = selector.fit(F13_train, Y_train)\n",
    "X_select=selector.transform(F13_train)\n",
    "Xt_select=selector.transform(F13_test)\n",
    "model.fit(X_select,Y_train)\n",
    "print(selector.support_)\n",
    "print(\"train accuracy for RFE => \",accuracy_score(model.predict(X_select),Y_train))\n",
    "print(\"test accuracy for RFE => \",accuracy_score(model.predict(Xt_select),Y_test))\n",
    "confmatrix=confusion_matrix(Y_test, model.predict(Xt_select))\n",
    "spec,sens=specandsens(confmatrix)\n",
    "print(spec,sens)# specificity and sensitivity"
   ]
  },
  {
   "cell_type": "code",
   "execution_count": 23,
   "metadata": {
    "collapsed": false,
    "deletable": true,
    "editable": true
   },
   "outputs": [
    {
     "name": "stdout",
     "output_type": "stream",
     "text": [
      "[False False False False  True  True  True False False False False  True\n",
      "  True  True  True  True  True False  True False False  True False  True\n",
      " False False  True]\n",
      "train accuracy for RFE =>  0.999955322349\n",
      "test accuracy for RFE =>  0.788190996359\n",
      "0.57152793879 0.860351465543\n"
     ]
    }
   ],
   "source": [
    "selector = selector.fit(F123_train, Y_train)\n",
    "X_select=selector.transform(F123_train)\n",
    "Xt_select=selector.transform(F123_test)\n",
    "model.fit(X_select,Y_train)\n",
    "print(selector.support_)\n",
    "print(\"train accuracy for RFE => \",accuracy_score(model.predict(X_select),Y_train))\n",
    "print(\"test accuracy for RFE => \",accuracy_score(model.predict(Xt_select),Y_test))\n",
    "confmatrix=confusion_matrix(Y_test, model.predict(Xt_select))\n",
    "spec,sens=specandsens(confmatrix)\n",
    "print(spec,sens)# specificity and sensitivity"
   ]
  },
  {
   "cell_type": "code",
   "execution_count": null,
   "metadata": {
    "collapsed": true,
    "deletable": true,
    "editable": true
   },
   "outputs": [],
   "source": []
  }
 ],
 "metadata": {
  "anaconda-cloud": {},
  "kernelspec": {
   "display_name": "Python 3",
   "language": "python",
   "name": "python3"
  },
  "language_info": {
   "codemirror_mode": {
    "name": "ipython",
    "version": 3
   },
   "file_extension": ".py",
   "mimetype": "text/x-python",
   "name": "python",
   "nbconvert_exporter": "python",
   "pygments_lexer": "ipython3",
   "version": "3.6.1"
  }
 },
 "nbformat": 4,
 "nbformat_minor": 2
}
