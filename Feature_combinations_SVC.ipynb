{
 "cells": [
  {
   "cell_type": "markdown",
   "metadata": {
    "deletable": true,
    "editable": true
   },
   "source": [
    "### Scores for SVC classifier (Downsampled)"
   ]
  },
  {
   "cell_type": "code",
   "execution_count": null,
   "metadata": {
    "collapsed": false,
    "deletable": true,
    "editable": true
   },
   "outputs": [],
   "source": [
    "import pandas as pd \n",
    "import numpy as np \n",
    "import os \n",
    "from random import randint\n",
    "from sklearn import metrics\n",
    "from sklearn import tree\n",
    "from sklearn.metrics import accuracy_score#import accuracy_score\n",
    "from sklearn.preprocessing import MinMaxScaler\n",
    "from sklearn.feature_selection import SelectFromModel\n",
    "from sklearn.model_selection import train_test_split\n",
    "from sklearn.metrics import classification_report\n",
    "from sklearn.metrics import confusion_matrix\n",
    "\n",
    "df=pd.read_csv('fordTrain.csv')\n",
    "df1=pd.read_csv('fordTest.csv')\n",
    "\n",
    "df=df.drop(['TrialID','ObsNum','P8','V7','V9'],axis=1) \n",
    "df1=df1.drop(['TrialID','ObsNum','P8','V7','V9'],axis=1)\n",
    "\n",
    "Y_train=df['IsAlert']\n",
    "Y_train=Y_train.ix[:10000]\n",
    "X_train=df.ix[:10000,:]  # using only 10,000 instances of the train set\n",
    "X_train=X_train.drop(['IsAlert'],axis=1)\n",
    "\n",
    "Y_test=df1['IsAlert']\n",
    "X_test=df1.drop(['IsAlert'],axis=1)\n",
    "#data=df.as_matrix()\n",
    "def specandsens(a):\n",
    "    sens=a[1][1]/(a[1][1]+a[1][0])\n",
    "    spec=a[0][0]/(a[0][0]+a[0][1])\n",
    "    return spec,sens"
   ]
  },
  {
   "cell_type": "code",
   "execution_count": null,
   "metadata": {
    "collapsed": false,
    "deletable": true,
    "editable": true
   },
   "outputs": [],
   "source": [
    "F1_train=X_train.ix[:,0:7].copy() # Physiologival features"
   ]
  },
  {
   "cell_type": "code",
   "execution_count": null,
   "metadata": {
    "collapsed": true,
    "deletable": true,
    "editable": true
   },
   "outputs": [],
   "source": [
    "F2_train=X_train.ix[:,7:18].copy()# environmental features"
   ]
  },
  {
   "cell_type": "code",
   "execution_count": null,
   "metadata": {
    "collapsed": true,
    "deletable": true,
    "editable": true
   },
   "outputs": [],
   "source": [
    "F3_train=X_train.ix[:,18:].copy() # Vehicular features"
   ]
  },
  {
   "cell_type": "code",
   "execution_count": null,
   "metadata": {
    "collapsed": true,
    "deletable": true,
    "editable": true
   },
   "outputs": [],
   "source": [
    "F1_test=X_test.ix[:,0:7].copy()\n",
    "F2_test=X_test.ix[:,7:18].copy()\n",
    "F3_test=X_test.ix[:,18:].copy()"
   ]
  },
  {
   "cell_type": "code",
   "execution_count": null,
   "metadata": {
    "collapsed": true,
    "deletable": true,
    "editable": true
   },
   "outputs": [],
   "source": [
    "F12_train=pd.concat([F1_train,F2_train],axis=1)\n",
    "F23_train=pd.concat([F2_train,F3_train],axis=1)\n",
    "F13_train=pd.concat([F1_train,F3_train],axis=1)\n",
    "F12_test=pd.concat([F1_test,F2_test],axis=1)\n",
    "F23_test=pd.concat([F2_test,F3_test],axis=1)\n",
    "F13_test=pd.concat([F1_test,F3_test],axis=1)"
   ]
  },
  {
   "cell_type": "code",
   "execution_count": null,
   "metadata": {
    "collapsed": true,
    "deletable": true,
    "editable": true
   },
   "outputs": [],
   "source": [
    "F123_train=pd.concat([F1_train,F2_train,F3_train],axis=1)\n",
    "F123_test=pd.concat([F1_test,F2_test,F3_test],axis=1)"
   ]
  },
  {
   "cell_type": "code",
   "execution_count": null,
   "metadata": {
    "collapsed": false,
    "deletable": true,
    "editable": true
   },
   "outputs": [],
   "source": [
    "from sklearn.metrics import accuracy_score\n",
    "\n",
    "from sklearn.metrics import recall_score\n",
    "from sklearn.metrics import precision_score\n",
    "from sklearn.metrics import confusion_matrix\n",
    "from sklearn.svm import SVC\n",
    "model = SVC()"
   ]
  },
  {
   "cell_type": "code",
   "execution_count": null,
   "metadata": {
    "collapsed": false,
    "deletable": true,
    "editable": true
   },
   "outputs": [],
   "source": [
    "model.fit(F1_train,Y_train)\n",
    "print(\"train accuracy for F1 => \",accuracy_score(model.predict(F1_train),Y_train))\n",
    "print(\"test accuracy for F1 => \",accuracy_score(model.predict(F1_test),Y_test))\n",
    "confmatrix=confusion_matrix(Y_test, model.predict(F1_test))\n",
    "spec,sens=specandsens(confmatrix)\n",
    "print(spec,sens)# specificity and sensitivity"
   ]
  },
  {
   "cell_type": "code",
   "execution_count": null,
   "metadata": {
    "collapsed": false,
    "deletable": true,
    "editable": true
   },
   "outputs": [],
   "source": [
    "model.fit(F2_train,Y_train)\n",
    "print(\"train accuracy for F2 => \",accuracy_score(model.predict(F2_train),Y_train))\n",
    "print(\"test accuracy for F2 => \",accuracy_score(model.predict(F2_test),Y_test))\n",
    "confmatrix=confusion_matrix(Y_test, model.predict(F2_test))\n",
    "spec,sens=specandsens(confmatrix)\n",
    "print(spec,sens)# specificity and sensitivity"
   ]
  },
  {
   "cell_type": "code",
   "execution_count": null,
   "metadata": {
    "collapsed": false,
    "deletable": true,
    "editable": true
   },
   "outputs": [],
   "source": [
    "model.fit(F3_train,Y_train)\n",
    "print(\"train accuracy for F3 => \",accuracy_score(model.predict(F3_train),Y_train))\n",
    "print(\"test accuracy for F3 => \",accuracy_score(model.predict(F3_test),Y_test))\n",
    "confmatrix=confusion_matrix(Y_test, model.predict(F3_test))\n",
    "spec,sens=specandsens(confmatrix)\n",
    "print(spec,sens)# specificity and sensitivity"
   ]
  },
  {
   "cell_type": "code",
   "execution_count": null,
   "metadata": {
    "collapsed": false,
    "deletable": true,
    "editable": true
   },
   "outputs": [],
   "source": [
    "model.fit(F123_train,Y_train)\n",
    "print(\"train accuracy for F123 => \",accuracy_score(model.predict(F123_train),Y_train))\n",
    "print(\"test accuracy for F123 => \",accuracy_score(model.predict(F123_test),Y_test))\n",
    "confmatrix=confusion_matrix(Y_test, model.predict(F123_test))\n",
    "spec,sens=specandsens(confmatrix)\n",
    "print(spec,sens)# specificity and sensitivity"
   ]
  }
 ],
 "metadata": {
  "anaconda-cloud": {},
  "kernelspec": {
   "display_name": "Python [Root]",
   "language": "python",
   "name": "Python [Root]"
  },
  "language_info": {
   "codemirror_mode": {
    "name": "ipython",
    "version": 3
   },
   "file_extension": ".py",
   "mimetype": "text/x-python",
   "name": "python",
   "nbconvert_exporter": "python",
   "pygments_lexer": "ipython3",
   "version": "3.5.2"
  }
 },
 "nbformat": 4,
 "nbformat_minor": 2
}
