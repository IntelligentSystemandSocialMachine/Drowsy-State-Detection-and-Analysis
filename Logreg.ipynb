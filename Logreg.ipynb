{
 "cells": [
  {
   "cell_type": "code",
   "execution_count": 1,
   "metadata": {
    "collapsed": false,
    "deletable": true,
    "editable": true
   },
   "outputs": [],
   "source": [
    "import pandas as pd \n",
    "import numpy as np \n",
    "from sklearn.model_selection import GridSearchCV\n",
    "from sklearn.metrics import accuracy_score#import accuracy_score\n",
    "from sklearn.model_selection import train_test_split\n",
    "from sklearn.metrics import classification_report\n",
    "from sklearn.metrics import confusion_matrix\n",
    "\n",
    "df=pd.read_csv('fordTrain.csv')\n",
    "df1=pd.read_csv('fordTest.csv')\n",
    "\n",
    "df=df.drop(['P8','V7','V9'],axis=1)\n",
    "df1=df1.drop(['P8','V7','V9'],axis=1)\n",
    "#df=df.drop(['TrialID','ObsNum','P8','V7','V9'],axis=1) \n",
    "#df1=df1.drop(['TrialID','ObsNum','P8','V7','V9'],axis=1)\n",
    "\n",
    "Y_train=df.ix[:,'IsAlert'].copy()\n",
    "X_train=df.drop(['IsAlert'],axis=1)\n",
    "\n",
    "Y_test=df1.ix[:,'IsAlert'].copy()\n",
    "X_test=df1.drop(['IsAlert'],axis=1)"
   ]
  },
  {
   "cell_type": "code",
   "execution_count": 33,
   "metadata": {
    "collapsed": true,
    "deletable": true,
    "editable": true
   },
   "outputs": [],
   "source": [
    "Y2=Y_train.to_frame()"
   ]
  },
  {
   "cell_type": "code",
   "execution_count": 10,
   "metadata": {
    "collapsed": false,
    "deletable": true,
    "editable": true
   },
   "outputs": [
    {
     "data": {
      "text/html": [
       "<div>\n",
       "<table border=\"1\" class=\"dataframe\">\n",
       "  <thead>\n",
       "    <tr style=\"text-align: right;\">\n",
       "      <th></th>\n",
       "      <th>TrialID</th>\n",
       "      <th>ObsNum</th>\n",
       "      <th>IsAlert</th>\n",
       "      <th>P1</th>\n",
       "      <th>P2</th>\n",
       "      <th>P3</th>\n",
       "      <th>P4</th>\n",
       "      <th>P5</th>\n",
       "      <th>P6</th>\n",
       "      <th>P7</th>\n",
       "      <th>...</th>\n",
       "      <th>E11</th>\n",
       "      <th>V1</th>\n",
       "      <th>V2</th>\n",
       "      <th>V3</th>\n",
       "      <th>V4</th>\n",
       "      <th>V5</th>\n",
       "      <th>V6</th>\n",
       "      <th>V8</th>\n",
       "      <th>V10</th>\n",
       "      <th>V11</th>\n",
       "    </tr>\n",
       "  </thead>\n",
       "  <tbody>\n",
       "    <tr>\n",
       "      <th>0</th>\n",
       "      <td>0</td>\n",
       "      <td>0</td>\n",
       "      <td>0</td>\n",
       "      <td>34.7406</td>\n",
       "      <td>9.84593</td>\n",
       "      <td>1400</td>\n",
       "      <td>42.8571</td>\n",
       "      <td>0.290601</td>\n",
       "      <td>572</td>\n",
       "      <td>104.895</td>\n",
       "      <td>...</td>\n",
       "      <td>0.0</td>\n",
       "      <td>101.96</td>\n",
       "      <td>0.175</td>\n",
       "      <td>752</td>\n",
       "      <td>5.99375</td>\n",
       "      <td>0</td>\n",
       "      <td>2005</td>\n",
       "      <td>13.4</td>\n",
       "      <td>4</td>\n",
       "      <td>14.8004</td>\n",
       "    </tr>\n",
       "    <tr>\n",
       "      <th>1</th>\n",
       "      <td>0</td>\n",
       "      <td>1</td>\n",
       "      <td>0</td>\n",
       "      <td>34.4215</td>\n",
       "      <td>13.41120</td>\n",
       "      <td>1400</td>\n",
       "      <td>42.8571</td>\n",
       "      <td>0.290601</td>\n",
       "      <td>572</td>\n",
       "      <td>104.895</td>\n",
       "      <td>...</td>\n",
       "      <td>0.0</td>\n",
       "      <td>101.98</td>\n",
       "      <td>0.455</td>\n",
       "      <td>752</td>\n",
       "      <td>5.99375</td>\n",
       "      <td>0</td>\n",
       "      <td>2007</td>\n",
       "      <td>13.4</td>\n",
       "      <td>4</td>\n",
       "      <td>14.7729</td>\n",
       "    </tr>\n",
       "    <tr>\n",
       "      <th>2</th>\n",
       "      <td>0</td>\n",
       "      <td>2</td>\n",
       "      <td>0</td>\n",
       "      <td>34.3447</td>\n",
       "      <td>15.18520</td>\n",
       "      <td>1400</td>\n",
       "      <td>42.8571</td>\n",
       "      <td>0.290601</td>\n",
       "      <td>576</td>\n",
       "      <td>104.167</td>\n",
       "      <td>...</td>\n",
       "      <td>0.0</td>\n",
       "      <td>101.97</td>\n",
       "      <td>0.280</td>\n",
       "      <td>752</td>\n",
       "      <td>5.99375</td>\n",
       "      <td>0</td>\n",
       "      <td>2011</td>\n",
       "      <td>13.4</td>\n",
       "      <td>4</td>\n",
       "      <td>14.7736</td>\n",
       "    </tr>\n",
       "    <tr>\n",
       "      <th>3</th>\n",
       "      <td>0</td>\n",
       "      <td>3</td>\n",
       "      <td>0</td>\n",
       "      <td>34.3421</td>\n",
       "      <td>8.84696</td>\n",
       "      <td>1400</td>\n",
       "      <td>42.8571</td>\n",
       "      <td>0.290601</td>\n",
       "      <td>576</td>\n",
       "      <td>104.167</td>\n",
       "      <td>...</td>\n",
       "      <td>0.0</td>\n",
       "      <td>101.99</td>\n",
       "      <td>0.070</td>\n",
       "      <td>752</td>\n",
       "      <td>5.99375</td>\n",
       "      <td>0</td>\n",
       "      <td>2015</td>\n",
       "      <td>13.4</td>\n",
       "      <td>4</td>\n",
       "      <td>14.7667</td>\n",
       "    </tr>\n",
       "    <tr>\n",
       "      <th>4</th>\n",
       "      <td>0</td>\n",
       "      <td>4</td>\n",
       "      <td>0</td>\n",
       "      <td>34.3322</td>\n",
       "      <td>14.69940</td>\n",
       "      <td>1400</td>\n",
       "      <td>42.8571</td>\n",
       "      <td>0.290601</td>\n",
       "      <td>576</td>\n",
       "      <td>104.167</td>\n",
       "      <td>...</td>\n",
       "      <td>0.0</td>\n",
       "      <td>102.07</td>\n",
       "      <td>0.175</td>\n",
       "      <td>752</td>\n",
       "      <td>5.99375</td>\n",
       "      <td>0</td>\n",
       "      <td>2017</td>\n",
       "      <td>13.4</td>\n",
       "      <td>4</td>\n",
       "      <td>14.7757</td>\n",
       "    </tr>\n",
       "  </tbody>\n",
       "</table>\n",
       "<p>5 rows × 30 columns</p>\n",
       "</div>"
      ],
      "text/plain": [
       "   TrialID  ObsNum  IsAlert       P1        P2    P3       P4        P5   P6  \\\n",
       "0        0       0        0  34.7406   9.84593  1400  42.8571  0.290601  572   \n",
       "1        0       1        0  34.4215  13.41120  1400  42.8571  0.290601  572   \n",
       "2        0       2        0  34.3447  15.18520  1400  42.8571  0.290601  576   \n",
       "3        0       3        0  34.3421   8.84696  1400  42.8571  0.290601  576   \n",
       "4        0       4        0  34.3322  14.69940  1400  42.8571  0.290601  576   \n",
       "\n",
       "        P7   ...     E11      V1     V2   V3       V4  V5    V6    V8  V10  \\\n",
       "0  104.895   ...     0.0  101.96  0.175  752  5.99375   0  2005  13.4    4   \n",
       "1  104.895   ...     0.0  101.98  0.455  752  5.99375   0  2007  13.4    4   \n",
       "2  104.167   ...     0.0  101.97  0.280  752  5.99375   0  2011  13.4    4   \n",
       "3  104.167   ...     0.0  101.99  0.070  752  5.99375   0  2015  13.4    4   \n",
       "4  104.167   ...     0.0  102.07  0.175  752  5.99375   0  2017  13.4    4   \n",
       "\n",
       "       V11  \n",
       "0  14.8004  \n",
       "1  14.7729  \n",
       "2  14.7736  \n",
       "3  14.7667  \n",
       "4  14.7757  \n",
       "\n",
       "[5 rows x 30 columns]"
      ]
     },
     "execution_count": 10,
     "metadata": {},
     "output_type": "execute_result"
    }
   ],
   "source": [
    "df.head()"
   ]
  },
  {
   "cell_type": "code",
   "execution_count": 11,
   "metadata": {
    "collapsed": false,
    "deletable": true,
    "editable": true
   },
   "outputs": [
    {
     "data": {
      "text/plain": [
       "1    349785\n",
       "0    254544\n",
       "Name: IsAlert, dtype: int64"
      ]
     },
     "execution_count": 11,
     "metadata": {},
     "output_type": "execute_result"
    }
   ],
   "source": [
    "df['IsAlert'].value_counts()"
   ]
  },
  {
   "cell_type": "code",
   "execution_count": null,
   "metadata": {
    "collapsed": true,
    "deletable": true,
    "editable": true
   },
   "outputs": [],
   "source": []
  },
  {
   "cell_type": "code",
   "execution_count": 2,
   "metadata": {
    "collapsed": true,
    "deletable": true,
    "editable": true
   },
   "outputs": [],
   "source": [
    "X_train['E5_std']=np.std(X_train['E5'])\n",
    "X_test['E5_std']=np.std(X_test['E5'])\n",
    "X_train['E5_mean']=np.mean(X_train['E5'])\n",
    "X_test['E5_mean']=np.mean(X_train['E5'])\n",
    "X_train['E7_std']=np.std(X_train['E5'])\n",
    "X_test['E7_std']=np.std(X_test['E5'])\n",
    "X_train['E7_mean']=np.mean(X_train['E5'])\n",
    "X_test['E7_mean']=np.mean(X_train['E5'])\n",
    "X_train['E9_std']=np.std(X_train['E5'])\n",
    "X_test['E9_std']=np.std(X_test['E5'])\n",
    "X_train['E9_mean']=np.mean(X_train['E5'])\n",
    "X_test['E9_mean']=np.mean(X_train['E5'])\n",
    "X_train['E10_std']=np.std(X_train['E5'])\n",
    "X_test['E10_std']=np.std(X_test['E5'])\n",
    "X_train['E10_mean']=np.mean(X_train['E5'])\n",
    "X_test['E10_mean']=np.mean(X_train['E5'])\n",
    "X_train['E5_std']=np.std(X_train['E5'])\n",
    "X_test['E5_std']=np.std(X_test['E5'])\n",
    "X_train['E5_mean']=np.mean(X_train['E5'])\n",
    "X_test['E5_mean']=np.mean(X_train['E5'])\n",
    "X_train['E5_std']=np.std(X_train['E5'])\n",
    "X_test['E5_std']=np.std(X_test['E5'])\n",
    "X_train['E5_mean']=np.mean(X_train['E5'])\n",
    "X_test['E5_mean']=np.mean(X_train['E5'])"
   ]
  },
  {
   "cell_type": "code",
   "execution_count": 3,
   "metadata": {
    "collapsed": true,
    "deletable": true,
    "editable": true
   },
   "outputs": [],
   "source": [
    "for i in range(511):\n",
    "    X_temp=X_train.ix[X_train['TrialID']==i,:].copy()\n",
    "    mean=np.mean(X_temp['E5'])\n",
    "    std=np.std(X_temp['E5'])\n",
    "    X_train.ix[X_train['TrialID']==i,'E5_mean']=mean\n",
    "    X_train.ix[X_train['TrialID']==i,'E5_std']=std"
   ]
  },
  {
   "cell_type": "code",
   "execution_count": 4,
   "metadata": {
    "collapsed": true,
    "deletable": true,
    "editable": true
   },
   "outputs": [],
   "source": [
    "for i in range(511):\n",
    "    X_temp=X_train.ix[X_train['TrialID']==i,:].copy()\n",
    "    mean=np.mean(X_temp['E7'])\n",
    "    std=np.std(X_temp['E7'])\n",
    "    X_train.ix[X_train['TrialID']==i,'E7_mean']=mean\n",
    "    X_train.ix[X_train['TrialID']==i,'E7_std']=std"
   ]
  },
  {
   "cell_type": "code",
   "execution_count": 5,
   "metadata": {
    "collapsed": true,
    "deletable": true,
    "editable": true
   },
   "outputs": [],
   "source": [
    "for i in range(511):\n",
    "    X_temp=X_train.ix[X_train['TrialID']==i,:].copy()\n",
    "    mean=np.mean(X_temp['E9'])\n",
    "    std=np.std(X_temp['E9'])\n",
    "    X_train.ix[X_train['TrialID']==i,'E9_mean']=mean\n",
    "    X_train.ix[X_train['TrialID']==i,'E9_std']=std"
   ]
  },
  {
   "cell_type": "code",
   "execution_count": 6,
   "metadata": {
    "collapsed": true,
    "deletable": true,
    "editable": true
   },
   "outputs": [],
   "source": [
    "for i in range(511):\n",
    "    X_temp=X_train.ix[X_train['TrialID']==i,:].copy()\n",
    "    mean=np.mean(X_temp['E10'])\n",
    "    std=np.std(X_temp['E10'])\n",
    "    X_train.ix[X_train['TrialID']==i,'E10_mean']=mean\n",
    "    X_train.ix[X_train['TrialID']==i,'E10_std']=std"
   ]
  },
  {
   "cell_type": "code",
   "execution_count": 7,
   "metadata": {
    "collapsed": false,
    "deletable": true,
    "editable": true
   },
   "outputs": [],
   "source": [
    "for i in range(511):\n",
    "    X_temp=X_train.ix[X_train['TrialID']==i,:].copy()\n",
    "    mean=np.mean(X_temp['V1'])\n",
    "    std=np.std(X_temp['V1'])\n",
    "    X_train.ix[X_train['TrialID']==i,'V1_mean']=mean\n",
    "    X_train.ix[X_train['TrialID']==i,'V1_std']=std"
   ]
  },
  {
   "cell_type": "code",
   "execution_count": null,
   "metadata": {
    "collapsed": true,
    "deletable": true,
    "editable": true
   },
   "outputs": [],
   "source": [
    "for i in range(511):\n",
    "    X_temp=X_train.ix[X_train['TrialID']==i,:].copy()\n",
    "    mean=np.mean(X_temp['V11'])\n",
    "    std=np.std(X_temp['V11'])\n",
    "    X_train.ix[X_train['TrialID']==i,'V11_mean']=mean\n",
    "    X_train.ix[X_train['TrialID']==i,'V11_std']=std"
   ]
  },
  {
   "cell_type": "code",
   "execution_count": 8,
   "metadata": {
    "collapsed": true,
    "deletable": true,
    "editable": true
   },
   "outputs": [],
   "source": [
    "for i in range(511):\n",
    "    X_temp=X_test.ix[X_test['TrialID']==i,:].copy()\n",
    "    mean=np.mean(X_temp['E5'])\n",
    "    std=np.std(X_temp['E5'])\n",
    "    X_test.ix[X_test['TrialID']==i,'E5_mean']=mean\n",
    "    X_test.ix[X_test['TrialID']==i,'E5_std']=std"
   ]
  },
  {
   "cell_type": "code",
   "execution_count": 9,
   "metadata": {
    "collapsed": true,
    "deletable": true,
    "editable": true
   },
   "outputs": [],
   "source": [
    "for i in range(511):\n",
    "    X_temp=X_test.ix[X_test['TrialID']==i,:].copy()\n",
    "    mean=np.mean(X_temp['E7'])\n",
    "    std=np.std(X_temp['E7'])\n",
    "    X_test.ix[X_test['TrialID']==i,'E7_mean']=mean\n",
    "    X_test.ix[X_test['TrialID']==i,'E7_std']=std"
   ]
  },
  {
   "cell_type": "code",
   "execution_count": null,
   "metadata": {
    "collapsed": true,
    "deletable": true,
    "editable": true
   },
   "outputs": [],
   "source": [
    "for i in range(511):\n",
    "    X_temp=X_test.ix[X_test['TrialID']==i,:].copy()\n",
    "    mean=np.mean(X_temp['E9'])\n",
    "    std=np.std(X_temp['E9'])\n",
    "    X_test.ix[X_test['TrialID']==i,'E9_mean']=mean\n",
    "    X_test.ix[X_test['TrialID']==i,'E9_std']=std"
   ]
  },
  {
   "cell_type": "code",
   "execution_count": null,
   "metadata": {
    "collapsed": true,
    "deletable": true,
    "editable": true
   },
   "outputs": [],
   "source": [
    "for i in range(511):\n",
    "    X_temp=X_test.ix[X_test['TrialID']==i,:].copy()\n",
    "    mean=np.mean(X_temp['E10'])\n",
    "    std=np.std(X_temp['E10'])\n",
    "    X_test.ix[X_test['TrialID']==i,'E10_mean']=mean\n",
    "    X_test.ix[X_test['TrialID']==i,'E10_std']=std"
   ]
  },
  {
   "cell_type": "code",
   "execution_count": null,
   "metadata": {
    "collapsed": true,
    "deletable": true,
    "editable": true
   },
   "outputs": [],
   "source": [
    "for i in range(511):\n",
    "    X_temp=X_test.ix[X_test['TrialID']==i,:].copy()\n",
    "    mean=np.mean(X_temp['V1'])\n",
    "    std=np.std(X_temp['V1'])\n",
    "    X_test.ix[X_test['TrialID']==i,'V1_mean']=mean\n",
    "    X_test.ix[X_test['TrialID']==i,'V1_std']=std"
   ]
  },
  {
   "cell_type": "code",
   "execution_count": null,
   "metadata": {
    "collapsed": true,
    "deletable": true,
    "editable": true
   },
   "outputs": [],
   "source": [
    "for i in range(511):\n",
    "    X_temp=X_test.ix[X_test['TrialID']==i,:].copy()\n",
    "    mean=np.mean(X_temp['V11'])\n",
    "    std=np.std(X_temp['V11'])\n",
    "    X_test.ix[X_test['TrialID']==i,'V11_mean']=mean\n",
    "    X_test.ix[X_test['TrialID']==i,'V11_std']=std"
   ]
  },
  {
   "cell_type": "code",
   "execution_count": null,
   "metadata": {
    "collapsed": false,
    "deletable": true,
    "editable": true
   },
   "outputs": [],
   "source": [
    "#X_train.ix[X_train['TrialID']==0,'E5_std']=0"
   ]
  },
  {
   "cell_type": "code",
   "execution_count": 19,
   "metadata": {
    "collapsed": false,
    "deletable": true,
    "editable": true
   },
   "outputs": [],
   "source": [
    "#X_train1=X_train.ix[:,['E7','E9','E10','V11','V1','E5_std','V10']].copy()\n",
    "#X_test1=X_test.ix[:,['E7','E9','E10','V11','V1','E5_std','V10']].copy()\n",
    "X_train1=X_train.ix[:,['E7_mean','E7_std','E9','E10','V1','V11']].copy()\n",
    "X_test1=X_test.ix[:,['E7_std','E7_std','E9','E10','V1','V11']].copy()"
   ]
  },
  {
   "cell_type": "code",
   "execution_count": 20,
   "metadata": {
    "collapsed": false,
    "deletable": true,
    "editable": true
   },
   "outputs": [],
   "source": [
    "from sklearn.linear_model import LogisticRegression\n",
    "clf=LogisticRegression()\n",
    "parameters = { 'C':[1, 10]}\n",
    "model = GridSearchCV(clf, parameters,cv=10,scoring='roc_auc')"
   ]
  },
  {
   "cell_type": "code",
   "execution_count": 21,
   "metadata": {
    "collapsed": false,
    "deletable": true,
    "editable": true
   },
   "outputs": [
    {
     "name": "stdout",
     "output_type": "stream",
     "text": [
      "train accuracy =>  0.771730299224\n",
      "test accuracy =>  0.882000993049\n"
     ]
    }
   ],
   "source": [
    "model.fit(X_train1,Y_train)\n",
    "print(\"train accuracy => \",accuracy_score(model.predict(X_train1),Y_train))\n",
    "print(\"test accuracy => \",accuracy_score(model.predict(X_test1),Y_test))"
   ]
  },
  {
   "cell_type": "code",
   "execution_count": 22,
   "metadata": {
    "collapsed": false,
    "deletable": true,
    "editable": true
   },
   "outputs": [],
   "source": [
    "Y_pred_prob=model.predict_proba(X_test1)[:,1]"
   ]
  },
  {
   "cell_type": "code",
   "execution_count": 23,
   "metadata": {
    "collapsed": false,
    "deletable": true,
    "editable": true
   },
   "outputs": [
    {
     "data": {
      "text/plain": [
       "0.81281997534284645"
      ]
     },
     "execution_count": 23,
     "metadata": {},
     "output_type": "execute_result"
    }
   ],
   "source": [
    "from sklearn.metrics import roc_auc_score\n",
    "roc_auc_score(Y_test,Y_pred_prob)"
   ]
  },
  {
   "cell_type": "code",
   "execution_count": 24,
   "metadata": {
    "collapsed": false,
    "deletable": true,
    "editable": true
   },
   "outputs": [],
   "source": [
    "def specandsens(a):\n",
    "    sens=a[1][1]/(a[1][1]+a[1][0])\n",
    "    spec=a[0][0]/(a[0][0]+a[0][1])\n",
    "    return spec,sens"
   ]
  },
  {
   "cell_type": "code",
   "execution_count": 25,
   "metadata": {
    "collapsed": false,
    "deletable": true,
    "editable": true
   },
   "outputs": [
    {
     "name": "stdout",
     "output_type": "stream",
     "text": [
      "specificity is 0.5282142140803637 and sensitivity is 0.9983942986604492\n"
     ]
    }
   ],
   "source": [
    "confmatrix=confusion_matrix(Y_test, model.predict(X_test1))\n",
    "spec,sens=specandsens(confmatrix)\n",
    "print(f'specificity is {spec} and sensitivity is {sens}')"
   ]
  },
  {
   "cell_type": "code",
   "execution_count": 17,
   "metadata": {
    "collapsed": true,
    "deletable": true,
    "editable": true
   },
   "outputs": [],
   "source": [
    "from sklearn.metrics import roc_curve,auc\n",
    "import matplotlib.pyplot as plt"
   ]
  },
  {
   "cell_type": "code",
   "execution_count": 18,
   "metadata": {
    "collapsed": false,
    "deletable": true,
    "editable": true
   },
   "outputs": [],
   "source": [
    "fpr,tpr,thresholds=roc_curve(Y_test,Y_pred_prob)\n",
    "roc_auc = auc(fpr, tpr)"
   ]
  },
  {
   "cell_type": "code",
   "execution_count": 66,
   "metadata": {
    "collapsed": false,
    "deletable": true,
    "editable": true
   },
   "outputs": [
    {
     "data": {
      "image/png": "[encoded data removed]",
      "text/plain": [
       "<matplotlib.figure.Figure at 0x7fcf9422ca20>"
      ]
     },
     "metadata": {},
     "output_type": "display_data"
    }
   ],
   "source": [
    "plt.title('Receiver Operating Characteristic')\n",
    "plt.plot(fpr, tpr, 'b',label='AUC = %0.2f'% roc_auc)\n",
    "plt.legend(loc='lower right')\n",
    "plt.plot([0,1],[0,1],'r--')\n",
    "plt.xlim([0.0,1.05])\n",
    "plt.ylim([0.0,1.05])\n",
    "plt.ylabel('True Positive Rate')\n",
    "plt.xlabel('False Positive Rate')\n",
    "plt.show()\n",
    "#plt.savefig('roc.png')"
   ]
  }
 ],
 "metadata": {
  "kernelspec": {
   "display_name": "Python 3",
   "language": "python",
   "name": "python3"
  },
  "language_info": {
   "codemirror_mode": {
    "name": "ipython",
    "version": 3
   },
   "file_extension": ".py",
   "mimetype": "text/x-python",
   "name": "python",
   "nbconvert_exporter": "python",
   "pygments_lexer": "ipython3",
   "version": "3.6.1"
  }
 },
 "nbformat": 4,
 "nbformat_minor": 2
}
