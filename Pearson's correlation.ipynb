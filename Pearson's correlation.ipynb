{
 "cells": [
  {
   "cell_type": "heading",
   "metadata": {
    "collapsed": true
   },
   "level": 1,
   "source": [
    "import pandas as pd \n",
    "import numpy as np \n",
    "import matplotlib.pyplot as plt"
   ]
  },
  {
   "cell_type": "code",
   "execution_count": 2,
   "metadata": {
    "collapsed": true
   },
   "outputs": [],
   "source": [
    "%matplotlib inline"
   ]
  },
  {
   "cell_type": "code",
   "execution_count": 3,
   "metadata": {
    "collapsed": true
   },
   "outputs": [],
   "source": [
    "df=pd.read_csv('fordTrain.csv')"
   ]
  },
  {
   "cell_type": "code",
   "execution_count": 4,
   "metadata": {
    "collapsed": true
   },
   "outputs": [],
   "source": [
    "plt.style.use('ggplot')"
   ]
  },
  {
   "cell_type": "code",
   "execution_count": 5,
   "metadata": {
    "collapsed": true
   },
   "outputs": [],
   "source": [
    "from scipy.stats import skew"
   ]
  },
  {
   "cell_type": "code",
   "execution_count": 6,
   "metadata": {
    "collapsed": true
   },
   "outputs": [],
   "source": [
    "from sklearn import preprocessing"
   ]
  },
  {
   "cell_type": "code",
   "execution_count": 7,
   "metadata": {
    "collapsed": true
   },
   "outputs": [],
   "source": [
    "from scipy.stats import boxcox"
   ]
  },
  {
   "cell_type": "code",
   "execution_count": 8,
   "metadata": {
    "collapsed": true
   },
   "outputs": [],
   "source": [
    "all_t=np.log(df[['P1','P5','P6','E3','E4','E7','E8','E9','E11','V4','V11']])#taking log of skewed features"
   ]
  },
  {
   "cell_type": "code",
   "execution_count": 9,
   "metadata": {
    "collapsed": false
   },
   "outputs": [
    {
     "data": {
      "text/plain": [
       "array([  2.44597963,  20.22498335,  89.78952886,   3.35233398,\n",
       "        -2.46776477,   2.84411169,   2.20021205,  -2.29272213,\n",
       "         4.06287808,   5.14491507,  21.16551384])"
      ]
     },
     "execution_count": 9,
     "metadata": {},
     "output_type": "execute_result"
    }
   ],
   "source": [
    "skew(df[['P1','P5','P6','E3','E4','E7','E8','E9','E11','V4','V11']])"
   ]
  },
  {
   "cell_type": "code",
   "execution_count": 10,
   "metadata": {
    "collapsed": true
   },
   "outputs": [],
   "source": [
    "df[['P1','P5','P6','E3','E4','E7','E8','E9','E11','V4','V11']]=np.log(df[['P1','P5','P6','E3','E4','E7','E8','E9','E11','V4','V11']])"
   ]
  },
  {
   "cell_type": "code",
   "execution_count": 11,
   "metadata": {
    "collapsed": true
   },
   "outputs": [],
   "source": [
    "all_t1=all_t.replace([np.inf, -np.inf, np.nan], 0)"
   ]
  },
  {
   "cell_type": "code",
   "execution_count": 12,
   "metadata": {
    "collapsed": true
   },
   "outputs": [],
   "source": [
    "df[['P1','P5','P6','E3','E4','E7','E8','E9','E11','V4','V11']]=all_t1"
   ]
  },
  {
   "cell_type": "code",
   "execution_count": 13,
   "metadata": {
    "collapsed": true
   },
   "outputs": [],
   "source": [
    "X=df.drop(['TrialID','ObsNum'],axis=1)"
   ]
  },
  {
   "cell_type": "code",
   "execution_count": 14,
   "metadata": {
    "collapsed": false
   },
   "outputs": [],
   "source": [
    "pc=X.corr(method='pearson',min_periods=1)"
   ]
  },
  {
   "cell_type": "code",
   "execution_count": 21,
   "metadata": {
    "collapsed": false
   },
   "outputs": [
    {
     "data": {
      "text/plain": [
       "IsAlert    1.000000\n",
       "P1         0.016088\n",
       "P2         0.014383\n",
       "P3         0.005168\n",
       "P4        -0.008177\n",
       "P5         0.178421\n",
       "P6        -0.159498\n",
       "P7         0.189796\n",
       "P8              NaN\n",
       "E1        -0.160830\n",
       "E2        -0.105495\n",
       "E3         0.145110\n",
       "E4        -0.075615\n",
       "E5        -0.067453\n",
       "E6        -0.189198\n",
       "E7        -0.338979\n",
       "E8        -0.339059\n",
       "E9              NaN\n",
       "E10       -0.067051\n",
       "E11        0.078446\n",
       "V1        -0.269967\n",
       "V2        -0.050740\n",
       "V3        -0.062000\n",
       "V4         0.161227\n",
       "V5         0.055429\n",
       "V6        -0.244150\n",
       "V7              NaN\n",
       "V8        -0.165550\n",
       "V9              NaN\n",
       "V10       -0.259607\n",
       "V11        0.345094\n",
       "Name: IsAlert, dtype: float64"
      ]
     },
     "execution_count": 21,
     "metadata": {},
     "output_type": "execute_result"
    }
   ],
   "source": [
    "pc.ix['',:].copy()"
   ]
  },
  {
   "cell_type": "markdown",
   "metadata": {},
   "source": [
    "Nan values are present because these particular feature P8,E9,V7,V9 have very less deviation and beacuse the pearson's correlation formula involves deviation it results in 0/0 and hence a Nan"
   ]
  }
 ],
 "metadata": {
  "anaconda-cloud": {},
  "kernelspec": {
   "display_name": "Python [Root]",
   "language": "python",
   "name": "Python [Root]"
  },
  "language_info": {
   "codemirror_mode": {
    "name": "ipython",
    "version": 3.0
   },
   "file_extension": ".py",
   "mimetype": "text/x-python",
   "name": "python",
   "nbconvert_exporter": "python",
   "pygments_lexer": "ipython3",
   "version": "3.5.2"
  }
 },
 "nbformat": 4,
 "nbformat_minor": 0
}